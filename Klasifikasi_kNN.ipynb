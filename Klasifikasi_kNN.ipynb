{
  "nbformat": 4,
  "nbformat_minor": 0,
  "metadata": {
    "colab": {
      "provenance": []
    },
    "kernelspec": {
      "name": "python3",
      "display_name": "Python 3"
    },
    "language_info": {
      "name": "python"
    }
  },
  "cells": [
    {
      "cell_type": "code",
      "execution_count": null,
      "metadata": {
        "id": "lyF5D8c6U4XE"
      },
      "outputs": [],
      "source": [
        "# Import library\n",
        "\n",
        "import pandas as pd  # manipulasi dan analisis data\n",
        "import numpy as np   # operasi matematika dan array multidimensi\n",
        "import matplotlib.pyplot as plt  # visualisasi data\n",
        "import seaborn as sns  # dari matplotlib, untuk membuat visualisasi yang lebih menarik\n",
        "# from imblearn.over_sampling import SMOTE  # menangani ketidakseimbangan kelas dengan oversampling\n",
        "from sklearn.model_selection import train_test_split  # membagi dataset menjadi data latih dan data uji\n",
        "from sklearn.neighbors import KNeighborsClassifier  # algoritma klasifikasi K-Nearest Neighbors (kNN)\n",
        "# from sklearn.preprocessing import StandardScaler, MinMaxScaler, PowerTransformer  # pre-processing data\n",
        "from sklearn.metrics import classification_report, confusion_matrix #mengevaluasi performa model\n",
        "from sklearn.metrics import accuracy_score #mengevaluasi performa model\n",
        "from sklearn.metrics import precision_score #mengevaluasi performa model\n",
        "from sklearn.metrics import recall_score #mengevaluasi performa model\n",
        "from sklearn.metrics import f1_score #mengevaluasi performa model\n",
        "from sklearn.model_selection import GridSearchCV  # mencari k terbaik dengan grid search cross-validation.\n"
      ]
    },
    {
      "cell_type": "code",
      "source": [
        "import warnings\n",
        "\n",
        "warnings.filterwarnings('ignore')"
      ],
      "metadata": {
        "id": "7uz8JQFweDnK"
      },
      "execution_count": null,
      "outputs": []
    },
    {
      "cell_type": "markdown",
      "source": [
        "## Import Dataset Abalone"
      ],
      "metadata": {
        "id": "UjJwm_3c7cr0"
      }
    },
    {
      "cell_type": "code",
      "source": [
        "# Input data abalone format csv\n",
        "data = pd.read_csv('abalone.csv')\n",
        "\n",
        "# Baca 5 data teratas\n",
        "print(data.head())"
      ],
      "metadata": {
        "id": "8W1ouefmzcTp",
        "colab": {
          "base_uri": "https://localhost:8080/"
        },
        "outputId": "74603fbb-479d-4846-d017-d7f57b31ccda"
      },
      "execution_count": null,
      "outputs": [
        {
          "output_type": "stream",
          "name": "stdout",
          "text": [
            "  Type  LongestShell  Diameter  Height  WholeWeight  ShuckedWeight  \\\n",
            "0    M         0.350     0.265   0.090       0.2255         0.0995   \n",
            "1    M         0.440     0.365   0.125       0.5160         0.2155   \n",
            "2    I         0.425     0.300   0.095       0.3515         0.1410   \n",
            "3    F         0.530     0.415   0.150       0.7775         0.2370   \n",
            "4    F         0.545     0.425   0.125       0.7680         0.2940   \n",
            "\n",
            "   VisceraWeight  ShellWeight  Rings  \n",
            "0         0.0485        0.070      7  \n",
            "1         0.1140        0.155     10  \n",
            "2         0.0775        0.120      8  \n",
            "3         0.1415        0.330     20  \n",
            "4         0.1495        0.260     16  \n"
          ]
        }
      ]
    },
    {
      "cell_type": "code",
      "source": [
        "# Menghapus parameter yang tidak diperlukan\n",
        "data.drop(['LongestShell', 'Diameter', 'VisceraWeight',  'ShellWeight',  'Rings'], axis=1, inplace=True)\n",
        "\n",
        "print(data.head())"
      ],
      "metadata": {
        "colab": {
          "base_uri": "https://localhost:8080/"
        },
        "id": "sOo1V880ztJm",
        "outputId": "c51bba3d-5ffe-472f-9723-01effde3528d"
      },
      "execution_count": null,
      "outputs": [
        {
          "output_type": "stream",
          "name": "stdout",
          "text": [
            "  Type  Height  WholeWeight  ShuckedWeight\n",
            "0    M   0.090       0.2255         0.0995\n",
            "1    M   0.125       0.5160         0.2155\n",
            "2    I   0.095       0.3515         0.1410\n",
            "3    F   0.150       0.7775         0.2370\n",
            "4    F   0.125       0.7680         0.2940\n"
          ]
        }
      ]
    },
    {
      "cell_type": "markdown",
      "source": [
        "## Mengeksplor Dataset"
      ],
      "metadata": {
        "id": "pdi0PCk07kPZ"
      }
    },
    {
      "cell_type": "code",
      "source": [
        "# Menampilkan jumlah baris dan kolom\n",
        "data.shape"
      ],
      "metadata": {
        "colab": {
          "base_uri": "https://localhost:8080/"
        },
        "id": "bFC1QacVST9I",
        "outputId": "d7d3d40a-b009-4b0a-f78e-b09e5939f621"
      },
      "execution_count": null,
      "outputs": [
        {
          "output_type": "execute_result",
          "data": {
            "text/plain": [
              "(4174, 4)"
            ]
          },
          "metadata": {},
          "execution_count": 5
        }
      ]
    },
    {
      "cell_type": "code",
      "source": [
        "# Menampilkan informasi kolom data\n",
        "data.info()"
      ],
      "metadata": {
        "colab": {
          "base_uri": "https://localhost:8080/"
        },
        "id": "jtliUTUy3Dg0",
        "outputId": "f482da61-289d-4872-8612-396e3fc7d7c1"
      },
      "execution_count": null,
      "outputs": [
        {
          "output_type": "stream",
          "name": "stdout",
          "text": [
            "<class 'pandas.core.frame.DataFrame'>\n",
            "RangeIndex: 4174 entries, 0 to 4173\n",
            "Data columns (total 4 columns):\n",
            " #   Column         Non-Null Count  Dtype  \n",
            "---  ------         --------------  -----  \n",
            " 0   Type           4174 non-null   object \n",
            " 1   Height         4174 non-null   float64\n",
            " 2   WholeWeight    4174 non-null   float64\n",
            " 3   ShuckedWeight  4174 non-null   float64\n",
            "dtypes: float64(3), object(1)\n",
            "memory usage: 130.6+ KB\n"
          ]
        }
      ]
    },
    {
      "cell_type": "code",
      "source": [
        "# Melihat data yang hilang (NaN)\n",
        "data.isna().sum()"
      ],
      "metadata": {
        "colab": {
          "base_uri": "https://localhost:8080/"
        },
        "id": "WKTWkDHlTKWs",
        "outputId": "fdc30ae2-e798-4bba-9e4e-ac74ee7f9ed5"
      },
      "execution_count": null,
      "outputs": [
        {
          "output_type": "execute_result",
          "data": {
            "text/plain": [
              "Type             0\n",
              "Height           0\n",
              "WholeWeight      0\n",
              "ShuckedWeight    0\n",
              "dtype: int64"
            ]
          },
          "metadata": {},
          "execution_count": 7
        }
      ]
    },
    {
      "cell_type": "code",
      "source": [
        "# Menampilkan jumlah data pada setiap 'Type'\n",
        "data.Type.value_counts()"
      ],
      "metadata": {
        "colab": {
          "base_uri": "https://localhost:8080/"
        },
        "id": "KPWkr0MeHuGW",
        "outputId": "0ec089b5-49a7-4278-ff78-4e38ea525110"
      },
      "execution_count": null,
      "outputs": [
        {
          "output_type": "execute_result",
          "data": {
            "text/plain": [
              "Type\n",
              "M    1527\n",
              "I    1341\n",
              "F    1306\n",
              "Name: count, dtype: int64"
            ]
          },
          "metadata": {},
          "execution_count": 8
        }
      ]
    },
    {
      "cell_type": "code",
      "source": [
        "data.describe()"
      ],
      "metadata": {
        "colab": {
          "base_uri": "https://localhost:8080/",
          "height": 300
        },
        "id": "kA_aIbIwM0yZ",
        "outputId": "2feb61a5-e4cc-4ee6-a2d0-8cee1d42ea3d"
      },
      "execution_count": null,
      "outputs": [
        {
          "output_type": "execute_result",
          "data": {
            "text/plain": [
              "            Height  WholeWeight  ShuckedWeight\n",
              "count  4174.000000  4174.000000    4174.000000\n",
              "mean      0.139542     0.829003       0.359489\n",
              "std       0.041826     0.490440       0.221988\n",
              "min       0.000000     0.002000       0.001000\n",
              "25%       0.115000     0.441625       0.186125\n",
              "50%       0.140000     0.800000       0.336000\n",
              "75%       0.165000     1.153750       0.502000\n",
              "max       1.130000     2.825500       1.488000"
            ],
            "text/html": [
              "\n",
              "  <div id=\"df-de5bfef3-5b27-4bc0-a060-281b57e1dcf8\" class=\"colab-df-container\">\n",
              "    <div>\n",
              "<style scoped>\n",
              "    .dataframe tbody tr th:only-of-type {\n",
              "        vertical-align: middle;\n",
              "    }\n",
              "\n",
              "    .dataframe tbody tr th {\n",
              "        vertical-align: top;\n",
              "    }\n",
              "\n",
              "    .dataframe thead th {\n",
              "        text-align: right;\n",
              "    }\n",
              "</style>\n",
              "<table border=\"1\" class=\"dataframe\">\n",
              "  <thead>\n",
              "    <tr style=\"text-align: right;\">\n",
              "      <th></th>\n",
              "      <th>Height</th>\n",
              "      <th>WholeWeight</th>\n",
              "      <th>ShuckedWeight</th>\n",
              "    </tr>\n",
              "  </thead>\n",
              "  <tbody>\n",
              "    <tr>\n",
              "      <th>count</th>\n",
              "      <td>4174.000000</td>\n",
              "      <td>4174.000000</td>\n",
              "      <td>4174.000000</td>\n",
              "    </tr>\n",
              "    <tr>\n",
              "      <th>mean</th>\n",
              "      <td>0.139542</td>\n",
              "      <td>0.829003</td>\n",
              "      <td>0.359489</td>\n",
              "    </tr>\n",
              "    <tr>\n",
              "      <th>std</th>\n",
              "      <td>0.041826</td>\n",
              "      <td>0.490440</td>\n",
              "      <td>0.221988</td>\n",
              "    </tr>\n",
              "    <tr>\n",
              "      <th>min</th>\n",
              "      <td>0.000000</td>\n",
              "      <td>0.002000</td>\n",
              "      <td>0.001000</td>\n",
              "    </tr>\n",
              "    <tr>\n",
              "      <th>25%</th>\n",
              "      <td>0.115000</td>\n",
              "      <td>0.441625</td>\n",
              "      <td>0.186125</td>\n",
              "    </tr>\n",
              "    <tr>\n",
              "      <th>50%</th>\n",
              "      <td>0.140000</td>\n",
              "      <td>0.800000</td>\n",
              "      <td>0.336000</td>\n",
              "    </tr>\n",
              "    <tr>\n",
              "      <th>75%</th>\n",
              "      <td>0.165000</td>\n",
              "      <td>1.153750</td>\n",
              "      <td>0.502000</td>\n",
              "    </tr>\n",
              "    <tr>\n",
              "      <th>max</th>\n",
              "      <td>1.130000</td>\n",
              "      <td>2.825500</td>\n",
              "      <td>1.488000</td>\n",
              "    </tr>\n",
              "  </tbody>\n",
              "</table>\n",
              "</div>\n",
              "    <div class=\"colab-df-buttons\">\n",
              "\n",
              "  <div class=\"colab-df-container\">\n",
              "    <button class=\"colab-df-convert\" onclick=\"convertToInteractive('df-de5bfef3-5b27-4bc0-a060-281b57e1dcf8')\"\n",
              "            title=\"Convert this dataframe to an interactive table.\"\n",
              "            style=\"display:none;\">\n",
              "\n",
              "  <svg xmlns=\"http://www.w3.org/2000/svg\" height=\"24px\" viewBox=\"0 -960 960 960\">\n",
              "    <path d=\"M120-120v-720h720v720H120Zm60-500h600v-160H180v160Zm220 220h160v-160H400v160Zm0 220h160v-160H400v160ZM180-400h160v-160H180v160Zm440 0h160v-160H620v160ZM180-180h160v-160H180v160Zm440 0h160v-160H620v160Z\"/>\n",
              "  </svg>\n",
              "    </button>\n",
              "\n",
              "  <style>\n",
              "    .colab-df-container {\n",
              "      display:flex;\n",
              "      gap: 12px;\n",
              "    }\n",
              "\n",
              "    .colab-df-convert {\n",
              "      background-color: #E8F0FE;\n",
              "      border: none;\n",
              "      border-radius: 50%;\n",
              "      cursor: pointer;\n",
              "      display: none;\n",
              "      fill: #1967D2;\n",
              "      height: 32px;\n",
              "      padding: 0 0 0 0;\n",
              "      width: 32px;\n",
              "    }\n",
              "\n",
              "    .colab-df-convert:hover {\n",
              "      background-color: #E2EBFA;\n",
              "      box-shadow: 0px 1px 2px rgba(60, 64, 67, 0.3), 0px 1px 3px 1px rgba(60, 64, 67, 0.15);\n",
              "      fill: #174EA6;\n",
              "    }\n",
              "\n",
              "    .colab-df-buttons div {\n",
              "      margin-bottom: 4px;\n",
              "    }\n",
              "\n",
              "    [theme=dark] .colab-df-convert {\n",
              "      background-color: #3B4455;\n",
              "      fill: #D2E3FC;\n",
              "    }\n",
              "\n",
              "    [theme=dark] .colab-df-convert:hover {\n",
              "      background-color: #434B5C;\n",
              "      box-shadow: 0px 1px 3px 1px rgba(0, 0, 0, 0.15);\n",
              "      filter: drop-shadow(0px 1px 2px rgba(0, 0, 0, 0.3));\n",
              "      fill: #FFFFFF;\n",
              "    }\n",
              "  </style>\n",
              "\n",
              "    <script>\n",
              "      const buttonEl =\n",
              "        document.querySelector('#df-de5bfef3-5b27-4bc0-a060-281b57e1dcf8 button.colab-df-convert');\n",
              "      buttonEl.style.display =\n",
              "        google.colab.kernel.accessAllowed ? 'block' : 'none';\n",
              "\n",
              "      async function convertToInteractive(key) {\n",
              "        const element = document.querySelector('#df-de5bfef3-5b27-4bc0-a060-281b57e1dcf8');\n",
              "        const dataTable =\n",
              "          await google.colab.kernel.invokeFunction('convertToInteractive',\n",
              "                                                    [key], {});\n",
              "        if (!dataTable) return;\n",
              "\n",
              "        const docLinkHtml = 'Like what you see? Visit the ' +\n",
              "          '<a target=\"_blank\" href=https://colab.research.google.com/notebooks/data_table.ipynb>data table notebook</a>'\n",
              "          + ' to learn more about interactive tables.';\n",
              "        element.innerHTML = '';\n",
              "        dataTable['output_type'] = 'display_data';\n",
              "        await google.colab.output.renderOutput(dataTable, element);\n",
              "        const docLink = document.createElement('div');\n",
              "        docLink.innerHTML = docLinkHtml;\n",
              "        element.appendChild(docLink);\n",
              "      }\n",
              "    </script>\n",
              "  </div>\n",
              "\n",
              "\n",
              "<div id=\"df-0f489789-7130-4abd-95cb-7baf732ecf42\">\n",
              "  <button class=\"colab-df-quickchart\" onclick=\"quickchart('df-0f489789-7130-4abd-95cb-7baf732ecf42')\"\n",
              "            title=\"Suggest charts\"\n",
              "            style=\"display:none;\">\n",
              "\n",
              "<svg xmlns=\"http://www.w3.org/2000/svg\" height=\"24px\"viewBox=\"0 0 24 24\"\n",
              "     width=\"24px\">\n",
              "    <g>\n",
              "        <path d=\"M19 3H5c-1.1 0-2 .9-2 2v14c0 1.1.9 2 2 2h14c1.1 0 2-.9 2-2V5c0-1.1-.9-2-2-2zM9 17H7v-7h2v7zm4 0h-2V7h2v10zm4 0h-2v-4h2v4z\"/>\n",
              "    </g>\n",
              "</svg>\n",
              "  </button>\n",
              "\n",
              "<style>\n",
              "  .colab-df-quickchart {\n",
              "      --bg-color: #E8F0FE;\n",
              "      --fill-color: #1967D2;\n",
              "      --hover-bg-color: #E2EBFA;\n",
              "      --hover-fill-color: #174EA6;\n",
              "      --disabled-fill-color: #AAA;\n",
              "      --disabled-bg-color: #DDD;\n",
              "  }\n",
              "\n",
              "  [theme=dark] .colab-df-quickchart {\n",
              "      --bg-color: #3B4455;\n",
              "      --fill-color: #D2E3FC;\n",
              "      --hover-bg-color: #434B5C;\n",
              "      --hover-fill-color: #FFFFFF;\n",
              "      --disabled-bg-color: #3B4455;\n",
              "      --disabled-fill-color: #666;\n",
              "  }\n",
              "\n",
              "  .colab-df-quickchart {\n",
              "    background-color: var(--bg-color);\n",
              "    border: none;\n",
              "    border-radius: 50%;\n",
              "    cursor: pointer;\n",
              "    display: none;\n",
              "    fill: var(--fill-color);\n",
              "    height: 32px;\n",
              "    padding: 0;\n",
              "    width: 32px;\n",
              "  }\n",
              "\n",
              "  .colab-df-quickchart:hover {\n",
              "    background-color: var(--hover-bg-color);\n",
              "    box-shadow: 0 1px 2px rgba(60, 64, 67, 0.3), 0 1px 3px 1px rgba(60, 64, 67, 0.15);\n",
              "    fill: var(--button-hover-fill-color);\n",
              "  }\n",
              "\n",
              "  .colab-df-quickchart-complete:disabled,\n",
              "  .colab-df-quickchart-complete:disabled:hover {\n",
              "    background-color: var(--disabled-bg-color);\n",
              "    fill: var(--disabled-fill-color);\n",
              "    box-shadow: none;\n",
              "  }\n",
              "\n",
              "  .colab-df-spinner {\n",
              "    border: 2px solid var(--fill-color);\n",
              "    border-color: transparent;\n",
              "    border-bottom-color: var(--fill-color);\n",
              "    animation:\n",
              "      spin 1s steps(1) infinite;\n",
              "  }\n",
              "\n",
              "  @keyframes spin {\n",
              "    0% {\n",
              "      border-color: transparent;\n",
              "      border-bottom-color: var(--fill-color);\n",
              "      border-left-color: var(--fill-color);\n",
              "    }\n",
              "    20% {\n",
              "      border-color: transparent;\n",
              "      border-left-color: var(--fill-color);\n",
              "      border-top-color: var(--fill-color);\n",
              "    }\n",
              "    30% {\n",
              "      border-color: transparent;\n",
              "      border-left-color: var(--fill-color);\n",
              "      border-top-color: var(--fill-color);\n",
              "      border-right-color: var(--fill-color);\n",
              "    }\n",
              "    40% {\n",
              "      border-color: transparent;\n",
              "      border-right-color: var(--fill-color);\n",
              "      border-top-color: var(--fill-color);\n",
              "    }\n",
              "    60% {\n",
              "      border-color: transparent;\n",
              "      border-right-color: var(--fill-color);\n",
              "    }\n",
              "    80% {\n",
              "      border-color: transparent;\n",
              "      border-right-color: var(--fill-color);\n",
              "      border-bottom-color: var(--fill-color);\n",
              "    }\n",
              "    90% {\n",
              "      border-color: transparent;\n",
              "      border-bottom-color: var(--fill-color);\n",
              "    }\n",
              "  }\n",
              "</style>\n",
              "\n",
              "  <script>\n",
              "    async function quickchart(key) {\n",
              "      const quickchartButtonEl =\n",
              "        document.querySelector('#' + key + ' button');\n",
              "      quickchartButtonEl.disabled = true;  // To prevent multiple clicks.\n",
              "      quickchartButtonEl.classList.add('colab-df-spinner');\n",
              "      try {\n",
              "        const charts = await google.colab.kernel.invokeFunction(\n",
              "            'suggestCharts', [key], {});\n",
              "      } catch (error) {\n",
              "        console.error('Error during call to suggestCharts:', error);\n",
              "      }\n",
              "      quickchartButtonEl.classList.remove('colab-df-spinner');\n",
              "      quickchartButtonEl.classList.add('colab-df-quickchart-complete');\n",
              "    }\n",
              "    (() => {\n",
              "      let quickchartButtonEl =\n",
              "        document.querySelector('#df-0f489789-7130-4abd-95cb-7baf732ecf42 button');\n",
              "      quickchartButtonEl.style.display =\n",
              "        google.colab.kernel.accessAllowed ? 'block' : 'none';\n",
              "    })();\n",
              "  </script>\n",
              "</div>\n",
              "    </div>\n",
              "  </div>\n"
            ],
            "application/vnd.google.colaboratory.intrinsic+json": {
              "type": "dataframe",
              "summary": "{\n  \"name\": \"data\",\n  \"rows\": 8,\n  \"fields\": [\n    {\n      \"column\": \"Height\",\n      \"properties\": {\n        \"dtype\": \"number\",\n        \"std\": 1475.6444500297853,\n        \"min\": 0.0,\n        \"max\": 4174.0,\n        \"num_unique_values\": 8,\n        \"samples\": [\n          0.13954240536655488,\n          0.14,\n          4174.0\n        ],\n        \"semantic_type\": \"\",\n        \"description\": \"\"\n      }\n    },\n    {\n      \"column\": \"WholeWeight\",\n      \"properties\": {\n        \"dtype\": \"number\",\n        \"std\": 1475.40165560899,\n        \"min\": 0.002,\n        \"max\": 4174.0,\n        \"num_unique_values\": 8,\n        \"samples\": [\n          0.8290033540967897,\n          0.8,\n          4174.0\n        ],\n        \"semantic_type\": \"\",\n        \"description\": \"\"\n      }\n    },\n    {\n      \"column\": \"ShuckedWeight\",\n      \"properties\": {\n        \"dtype\": \"number\",\n        \"std\": 1475.5756202720581,\n        \"min\": 0.001,\n        \"max\": 4174.0,\n        \"num_unique_values\": 8,\n        \"samples\": [\n          0.3594890991854337,\n          0.336,\n          4174.0\n        ],\n        \"semantic_type\": \"\",\n        \"description\": \"\"\n      }\n    }\n  ]\n}"
            }
          },
          "metadata": {},
          "execution_count": 9
        }
      ]
    },
    {
      "cell_type": "markdown",
      "source": [
        "**CEK DISTRIBUSI FITUR/PARAMETER**"
      ],
      "metadata": {
        "id": "_qQ3-2Viifc9"
      }
    },
    {
      "cell_type": "code",
      "source": [
        "import matplotlib.pyplot as plt\n",
        "\n",
        "# Menghitung jumlah kemunculan setiap nilai pada kolom 'Type' dan mengurutkannya\n",
        "target_count = data['Type'].value_counts().sort_index()\n",
        "\n",
        "# Daftar warna hex yang sesuai dengan setiap 'Type'\n",
        "colors = ['#ea9999', '#e69138', '#AB704D']\n",
        "\n",
        "# Membuat plot bar dengan menggunakan warna hex\n",
        "plt.figure(figsize=(8, 4))\n",
        "bars = plt.bar(target_count.index, target_count.values, color=colors)\n",
        "\n",
        "# Menambahkan label persentase di atas bar\n",
        "for bar, val in zip(bars, target_count.values):\n",
        "    plt.text(bar.get_x() + bar.get_width() / 2, bar.get_height() / 2,\n",
        "             f'{round(val / sum(target_count) * 100, 2)}%\\n({val})',\n",
        "             ha='center', color='white', fontsize=13)\n",
        "\n",
        "# Menambahkan judul, label sumbu, dan tanda sumbu pada plot\n",
        "plt.title('Kemunculan Type pada Setiap Class')\n",
        "plt.xlabel('Type')\n",
        "plt.ylabel('Jumlah')\n",
        "plt.xticks(rotation=0)\n",
        "plt.show()"
      ],
      "metadata": {
        "colab": {
          "base_uri": "https://localhost:8080/",
          "height": 368
        },
        "id": "lj8imNDRUmjT",
        "outputId": "2fc4a7f7-252c-41c1-df64-d53e524e3276"
      },
      "execution_count": null,
      "outputs": [
        {
          "output_type": "display_data",
          "data": {
            "text/plain": [
              "<Figure size 800x400 with 1 Axes>"
            ],
            "image/png": "[encoded data removed]"
          },
          "metadata": {}
        }
      ]
    },
    {
      "cell_type": "code",
      "source": [
        "import seaborn as sns\n",
        "\n",
        "# Mempersiapkan data numerik dan kategori\n",
        "numeric = ['WholeWeight', 'Height', 'ShuckedWeight']\n",
        "categorical = ['Type']\n",
        "\n",
        "plt.figure(figsize=(10, 20))\n",
        "plt.subplots_adjust(hspace=0.4)\n",
        "\n",
        "for i, name in enumerate(numeric):\n",
        "    # Boxplot dengan outlier\n",
        "    plt.subplot(6, 2, i*2+1)\n",
        "    sns.boxplot(data=data, x=name, y='Type', orient='h', palette=colors, showfliers=True)\n",
        "\n",
        "    # Boxplot tanpa outlier\n",
        "    plt.subplot(6, 2, i*2+2)\n",
        "    sns.boxplot(data=data, x=name, y='Type', orient='h', palette=colors, showfliers=False)\n",
        "\n",
        "# Menambahkan judul keseluruhan plot\n",
        "plt.suptitle('Boxplot fitur Numerik sehubungan dengan kelas target\\n(dengan dan tanpa outlier)', fontsize=15)\n",
        "\n",
        "# Menampilkan plot\n",
        "plt.show()"
      ],
      "metadata": {
        "colab": {
          "base_uri": "https://localhost:8080/",
          "height": 753
        },
        "id": "zcIVrQCKUWID",
        "outputId": "77edcb28-b1cb-4d14-d705-5002f3fd52a0"
      },
      "execution_count": null,
      "outputs": [
        {
          "output_type": "display_data",
          "data": {
            "text/plain": [
              "<Figure size 1000x2000 with 6 Axes>"
            ],
            "image/png": "[encoded data removed]"
          },
          "metadata": {}
        }
      ]
    },
    {
      "cell_type": "code",
      "source": [
        "# Distribusi fitur numerik\n",
        "with plt.style.context('bmh'):\n",
        "    plt.figure(figsize=(10, 3))\n",
        "    plt.subplots_adjust(wspace=0.4, hspace=0.4)\n",
        "\n",
        "    for i, name in enumerate(numeric):\n",
        "        plt.subplot(1, 3, i+1)\n",
        "        sns.histplot(data=data, x=name, color=colors[i])\n",
        "\n",
        "    # Menambahkan judul keseluruhan plot\n",
        "    plt.suptitle('Histogram fitur Numerik', fontsize=15)\n",
        "\n",
        "    # Menampilkan plot\n",
        "    plt.show()"
      ],
      "metadata": {
        "colab": {
          "base_uri": "https://localhost:8080/",
          "height": 255
        },
        "id": "bzh7GpK0Ub5C",
        "outputId": "e12f43d6-fbff-471c-a252-efa500a0b474"
      },
      "execution_count": null,
      "outputs": [
        {
          "output_type": "display_data",
          "data": {
            "text/plain": [
              "<Figure size 1000x300 with 3 Axes>"
            ],
            "image/png": "[encoded data removed]"
          },
          "metadata": {}
        }
      ]
    },
    {
      "cell_type": "markdown",
      "source": [
        "# Klasifikasi kNN"
      ],
      "metadata": {
        "id": "md6dx8Jd7p9l"
      }
    },
    {
      "cell_type": "markdown",
      "source": [
        "## 2 Parameter (Height dan WholeWeight)"
      ],
      "metadata": {
        "id": "3wtuRlSmPQIR"
      }
    },
    {
      "cell_type": "markdown",
      "source": [
        "**MENENTUKAN VARIABEL INDEPENDEN (X) DAN VARIABEL DEPENDEN (Y)**"
      ],
      "metadata": {
        "id": "w-5q3CuROLuL"
      }
    },
    {
      "cell_type": "code",
      "source": [
        "# # Membuat variabel independen dari 2 parameter\n",
        "x_2 = data[['WholeWeight', 'Height']]\n",
        "\n",
        "# Menentukan variabel dependen dari 2 parameter\n",
        "y_2 = data['Type']\n",
        "\n",
        "# Membagi data menjadi data training dan testing\n",
        "x_2_train, x_2_test, y_2_train, y_2_test = train_test_split(\n",
        "    x_2, y_2, test_size=0.1, random_state=42)\n",
        "\n",
        "# Cetak ukuran data training dan testing\n",
        "print(\"Jumlah data training:\", len(x_2_train))\n",
        "print(\"Jumlah data testing:\", len(x_2_test))"
      ],
      "metadata": {
        "colab": {
          "base_uri": "https://localhost:8080/"
        },
        "id": "Cf5rkEF_OIZt",
        "outputId": "aee5688c-21ec-4525-d8aa-45d6b1ed07ac"
      },
      "execution_count": null,
      "outputs": [
        {
          "output_type": "stream",
          "name": "stdout",
          "text": [
            "Jumlah data training: 3756\n",
            "Jumlah data testing: 418\n"
          ]
        }
      ]
    },
    {
      "cell_type": "markdown",
      "source": [
        "**PRE-PROCESSING DATA (TIDAK PERLU KARENA HASIL AKURASI JADI MENURUN)**"
      ],
      "metadata": {
        "id": "eULEpyR_VFmd"
      }
    },
    {
      "cell_type": "code",
      "source": [
        "# # Memperbaiki distribusi data numerik\n",
        "\n",
        "# # PowerTransformer (dengan metode Yeo-Johnson)\n",
        "# pt = PowerTransformer(method='yeo-johnson')\n",
        "\n",
        "# # Transformasi data numerik agar mendekati / lebih terdistribusi secara normal\n",
        "# x_2_train_pt = pt.fit_transform(x_2_train)\n",
        "\n",
        "# # Cetak hasil transformasi\n",
        "# print(x_2_train_pt)"
      ],
      "metadata": {
        "id": "m29JS-3AUru0"
      },
      "execution_count": null,
      "outputs": []
    },
    {
      "cell_type": "code",
      "source": [
        "# # Normalisasi data menggunakan min-max scaler ke skala 0-1\n",
        "# # Penskalaan diperlukan untuk knn yang sensitif terhadap penskalaan dan outlier\n",
        "\n",
        "# mm = MinMaxScaler()\n",
        "# x_2_train_scaled = mm.fit_transform(x_2_train)"
      ],
      "metadata": {
        "id": "2L8wvaAWW-bY"
      },
      "execution_count": null,
      "outputs": []
    },
    {
      "cell_type": "code",
      "source": [
        "# # Menggunakan SMOTE (Synthetic Minority Over-sampling Technique) dalam menangani ketidakseimbangan kelas\n",
        "\n",
        "# # Membuat SMOTE instance\n",
        "# smote = SMOTE(random_state=42)\n",
        "\n",
        "# # Melakukan oversampling hanya pada data training\n",
        "# x_2_train_smote, y_2_train_smote = smote.fit_resample(x_2_train_scaled, y_2_train)\n",
        "\n",
        "# # Cetak ukuran data training yang telah seimbang\n",
        "# print(\"Jumlah data training setelah SMOTE:\", len(x_2_train_smote))"
      ],
      "metadata": {
        "id": "r5plhFBNVT4u"
      },
      "execution_count": null,
      "outputs": []
    },
    {
      "cell_type": "code",
      "source": [
        "# # Hasil Distribusi Fitur Setelah Transformasi dan Penskalaan\n",
        "# pd.DataFrame(x_2_train_pt, columns=x_2.columns).hist(figsize=(6, 4), color='#AB704D')\n",
        "# plt.show()"
      ],
      "metadata": {
        "id": "IXzm7U7MxfUf"
      },
      "execution_count": null,
      "outputs": []
    },
    {
      "cell_type": "markdown",
      "source": [
        "**MENENTUKAN NILAI K (DENGAN GRIDSEARCHCV)**"
      ],
      "metadata": {
        "id": "4e3Dm24Z738Z"
      }
    },
    {
      "cell_type": "code",
      "source": [
        "# Tentukan nilai k dengan GridSearchCV\n",
        "\n",
        "# Masukkan rentang k\n",
        "param_grid = {'n_neighbors': np.arange(1, 100)}\n",
        "\n",
        "# Buat objek GridSearchCV\n",
        "grid_search = GridSearchCV(KNeighborsClassifier(), param_grid, cv=3, scoring='accuracy')\n",
        "\n",
        "# Latih model menggunakan data training yang telah di-SMOTE, di-transformasi, dan di-scaling\n",
        "grid_search.fit(x_2_train, y_2_train)\n",
        "\n",
        "# Cetak parameter terbaik yang ditemukan\n",
        "print(\"Parameter terbaik:\", grid_search.best_params_)"
      ],
      "metadata": {
        "colab": {
          "base_uri": "https://localhost:8080/"
        },
        "id": "rlMQcYEzkcQ4",
        "outputId": "8e5a3ad0-4557-40e6-b0fb-867a21c99f4c"
      },
      "execution_count": null,
      "outputs": [
        {
          "output_type": "stream",
          "name": "stdout",
          "text": [
            "Parameter terbaik: {'n_neighbors': 75}\n"
          ]
        }
      ]
    },
    {
      "cell_type": "markdown",
      "source": [
        "Selanjutnya akan digunanakan percobaan 4 jenis distance untuk klasifikasi kNN, yaitu:\n",
        "\n",
        "*   Model 1 : Default Distance (Minkowski)\n",
        "*   Model 2 : Cosine Distance\n",
        "*   Model 3 : Euclidean Distance\n",
        "*   Model 4 : Manhattan Distance\n",
        "\n"
      ],
      "metadata": {
        "id": "BixFj16c40cU"
      }
    },
    {
      "cell_type": "markdown",
      "source": [
        "#### Default Distance (Minkowski)"
      ],
      "metadata": {
        "id": "vl2y7Q4-a2d-"
      }
    },
    {
      "cell_type": "code",
      "source": [
        "#mengaktifkan fungsi klasifikasi\n",
        "v_2_klasifikasi_minkowski = KNeighborsClassifier(n_neighbors=grid_search.best_params_['n_neighbors'])\n",
        "\n",
        "#memasukkan data training pada fungsi klasifikasi\n",
        "v_2_klasifikasi_minkowski.fit(x_2_train, y_2_train)"
      ],
      "metadata": {
        "id": "nYrzPQ8Oztpm",
        "colab": {
          "base_uri": "https://localhost:8080/",
          "height": 75
        },
        "outputId": "456966e7-7b97-412f-bfa4-e717b4729f2d"
      },
      "execution_count": null,
      "outputs": [
        {
          "output_type": "execute_result",
          "data": {
            "text/plain": [
              "KNeighborsClassifier(n_neighbors=75)"
            ],
            "text/html": [
              "<style>#sk-container-id-30 {color: black;background-color: white;}#sk-container-id-30 pre{padding: 0;}#sk-container-id-30 div.sk-toggleable {background-color: white;}#sk-container-id-30 label.sk-toggleable__label {cursor: pointer;display: block;width: 100%;margin-bottom: 0;padding: 0.3em;box-sizing: border-box;text-align: center;}#sk-container-id-30 label.sk-toggleable__label-arrow:before {content: \"▸\";float: left;margin-right: 0.25em;color: #696969;}#sk-container-id-30 label.sk-toggleable__label-arrow:hover:before {color: black;}#sk-container-id-30 div.sk-estimator:hover label.sk-toggleable__label-arrow:before {color: black;}#sk-container-id-30 div.sk-toggleable__content {max-height: 0;max-width: 0;overflow: hidden;text-align: left;background-color: #f0f8ff;}#sk-container-id-30 div.sk-toggleable__content pre {margin: 0.2em;color: black;border-radius: 0.25em;background-color: #f0f8ff;}#sk-container-id-30 input.sk-toggleable__control:checked~div.sk-toggleable__content {max-height: 200px;max-width: 100%;overflow: auto;}#sk-container-id-30 input.sk-toggleable__control:checked~label.sk-toggleable__label-arrow:before {content: \"▾\";}#sk-container-id-30 div.sk-estimator input.sk-toggleable__control:checked~label.sk-toggleable__label {background-color: #d4ebff;}#sk-container-id-30 div.sk-label input.sk-toggleable__control:checked~label.sk-toggleable__label {background-color: #d4ebff;}#sk-container-id-30 input.sk-hidden--visually {border: 0;clip: rect(1px 1px 1px 1px);clip: rect(1px, 1px, 1px, 1px);height: 1px;margin: -1px;overflow: hidden;padding: 0;position: absolute;width: 1px;}#sk-container-id-30 div.sk-estimator {font-family: monospace;background-color: #f0f8ff;border: 1px dotted black;border-radius: 0.25em;box-sizing: border-box;margin-bottom: 0.5em;}#sk-container-id-30 div.sk-estimator:hover {background-color: #d4ebff;}#sk-container-id-30 div.sk-parallel-item::after {content: \"\";width: 100%;border-bottom: 1px solid gray;flex-grow: 1;}#sk-container-id-30 div.sk-label:hover label.sk-toggleable__label {background-color: #d4ebff;}#sk-container-id-30 div.sk-serial::before {content: \"\";position: absolute;border-left: 1px solid gray;box-sizing: border-box;top: 0;bottom: 0;left: 50%;z-index: 0;}#sk-container-id-30 div.sk-serial {display: flex;flex-direction: column;align-items: center;background-color: white;padding-right: 0.2em;padding-left: 0.2em;position: relative;}#sk-container-id-30 div.sk-item {position: relative;z-index: 1;}#sk-container-id-30 div.sk-parallel {display: flex;align-items: stretch;justify-content: center;background-color: white;position: relative;}#sk-container-id-30 div.sk-item::before, #sk-container-id-30 div.sk-parallel-item::before {content: \"\";position: absolute;border-left: 1px solid gray;box-sizing: border-box;top: 0;bottom: 0;left: 50%;z-index: -1;}#sk-container-id-30 div.sk-parallel-item {display: flex;flex-direction: column;z-index: 1;position: relative;background-color: white;}#sk-container-id-30 div.sk-parallel-item:first-child::after {align-self: flex-end;width: 50%;}#sk-container-id-30 div.sk-parallel-item:last-child::after {align-self: flex-start;width: 50%;}#sk-container-id-30 div.sk-parallel-item:only-child::after {width: 0;}#sk-container-id-30 div.sk-dashed-wrapped {border: 1px dashed gray;margin: 0 0.4em 0.5em 0.4em;box-sizing: border-box;padding-bottom: 0.4em;background-color: white;}#sk-container-id-30 div.sk-label label {font-family: monospace;font-weight: bold;display: inline-block;line-height: 1.2em;}#sk-container-id-30 div.sk-label-container {text-align: center;}#sk-container-id-30 div.sk-container {/* jupyter's `normalize.less` sets `[hidden] { display: none; }` but bootstrap.min.css set `[hidden] { display: none !important; }` so we also need the `!important` here to be able to override the default hidden behavior on the sphinx rendered scikit-learn.org. See: https://github.com/scikit-learn/scikit-learn/issues/21755 */display: inline-block !important;position: relative;}#sk-container-id-30 div.sk-text-repr-fallback {display: none;}</style><div id=\"sk-container-id-30\" class=\"sk-top-container\"><div class=\"sk-text-repr-fallback\"><pre>KNeighborsClassifier(n_neighbors=75)</pre><b>In a Jupyter environment, please rerun this cell to show the HTML representation or trust the notebook. <br />On GitHub, the HTML representation is unable to render, please try loading this page with nbviewer.org.</b></div><div class=\"sk-container\" hidden><div class=\"sk-item\"><div class=\"sk-estimator sk-toggleable\"><input class=\"sk-toggleable__control sk-hidden--visually\" id=\"sk-estimator-id-30\" type=\"checkbox\" checked><label for=\"sk-estimator-id-30\" class=\"sk-toggleable__label sk-toggleable__label-arrow\">KNeighborsClassifier</label><div class=\"sk-toggleable__content\"><pre>KNeighborsClassifier(n_neighbors=75)</pre></div></div></div></div></div>"
            ]
          },
          "metadata": {},
          "execution_count": 129
        }
      ]
    },
    {
      "cell_type": "code",
      "source": [
        "#menentukan hasil prediksi dari x_test\n",
        "y_2_pred_minkowski = v_2_klasifikasi_minkowski.predict(x_2_test)\n",
        "y_2_pred_minkowski"
      ],
      "metadata": {
        "colab": {
          "base_uri": "https://localhost:8080/"
        },
        "id": "jbh3-m-SztvW",
        "outputId": "03e25d0e-f551-4997-f258-3182d2124bca"
      },
      "execution_count": null,
      "outputs": [
        {
          "output_type": "execute_result",
          "data": {
            "text/plain": [
              "array(['M', 'M', 'M', 'I', 'I', 'M', 'F', 'I', 'M', 'M', 'M', 'I', 'M',\n",
              "       'M', 'M', 'F', 'M', 'I', 'F', 'I', 'M', 'M', 'I', 'M', 'I', 'M',\n",
              "       'M', 'F', 'I', 'M', 'M', 'M', 'I', 'F', 'F', 'I', 'I', 'I', 'I',\n",
              "       'I', 'M', 'F', 'M', 'M', 'F', 'M', 'F', 'F', 'M', 'I', 'M', 'F',\n",
              "       'I', 'M', 'I', 'M', 'I', 'I', 'M', 'M', 'I', 'I', 'F', 'M', 'I',\n",
              "       'F', 'M', 'M', 'F', 'I', 'I', 'I', 'M', 'F', 'F', 'M', 'I', 'M',\n",
              "       'F', 'I', 'I', 'I', 'M', 'I', 'M', 'F', 'I', 'M', 'I', 'F', 'I',\n",
              "       'I', 'I', 'I', 'F', 'I', 'M', 'I', 'F', 'I', 'M', 'I', 'I', 'I',\n",
              "       'F', 'F', 'I', 'I', 'M', 'M', 'F', 'M', 'I', 'I', 'F', 'I', 'M',\n",
              "       'F', 'I', 'I', 'M', 'I', 'F', 'M', 'M', 'M', 'I', 'F', 'I', 'M',\n",
              "       'F', 'I', 'I', 'I', 'I', 'I', 'F', 'I', 'M', 'I', 'F', 'I', 'I',\n",
              "       'I', 'M', 'M', 'I', 'F', 'F', 'I', 'I', 'I', 'M', 'I', 'M', 'M',\n",
              "       'F', 'M', 'M', 'I', 'F', 'F', 'I', 'M', 'M', 'I', 'I', 'M', 'F',\n",
              "       'M', 'M', 'F', 'M', 'M', 'I', 'M', 'M', 'M', 'I', 'F', 'F', 'F',\n",
              "       'M', 'I', 'I', 'I', 'I', 'M', 'I', 'I', 'M', 'M', 'M', 'M', 'I',\n",
              "       'I', 'F', 'M', 'F', 'I', 'M', 'I', 'I', 'I', 'I', 'M', 'M', 'M',\n",
              "       'F', 'I', 'F', 'F', 'F', 'M', 'I', 'M', 'I', 'I', 'M', 'F', 'I',\n",
              "       'M', 'F', 'I', 'F', 'I', 'M', 'M', 'I', 'M', 'F', 'M', 'M', 'I',\n",
              "       'M', 'M', 'I', 'F', 'F', 'F', 'F', 'M', 'M', 'M', 'M', 'M', 'I',\n",
              "       'F', 'M', 'I', 'I', 'I', 'I', 'I', 'I', 'I', 'F', 'I', 'I', 'I',\n",
              "       'M', 'I', 'M', 'F', 'I', 'I', 'M', 'F', 'I', 'I', 'I', 'F', 'I',\n",
              "       'F', 'I', 'F', 'M', 'M', 'I', 'M', 'F', 'M', 'I', 'I', 'M', 'M',\n",
              "       'F', 'M', 'I', 'I', 'I', 'M', 'M', 'M', 'I', 'M', 'M', 'M', 'M',\n",
              "       'F', 'M', 'I', 'F', 'M', 'F', 'M', 'I', 'M', 'M', 'I', 'F', 'I',\n",
              "       'I', 'F', 'I', 'I', 'I', 'F', 'I', 'I', 'M', 'I', 'M', 'I', 'M',\n",
              "       'F', 'I', 'F', 'M', 'M', 'I', 'I', 'I', 'I', 'I', 'I', 'F', 'I',\n",
              "       'I', 'M', 'M', 'F', 'M', 'I', 'F', 'I', 'I', 'I', 'I', 'F', 'I',\n",
              "       'I', 'F', 'I', 'I', 'M', 'M', 'M', 'I', 'F', 'I', 'F', 'M', 'I',\n",
              "       'M', 'M', 'M', 'M', 'M', 'F', 'I', 'I', 'M', 'M', 'M', 'I', 'F',\n",
              "       'F', 'F', 'I', 'I', 'M', 'M', 'I', 'M', 'F', 'M', 'I', 'M', 'I',\n",
              "       'M', 'M', 'F', 'F', 'I', 'F', 'M', 'I', 'M', 'M', 'I', 'M', 'M',\n",
              "       'M', 'I', 'I', 'M', 'M', 'F', 'M', 'I', 'M', 'F', 'M', 'F', 'F',\n",
              "       'I', 'M'], dtype=object)"
            ]
          },
          "metadata": {},
          "execution_count": 130
        }
      ]
    },
    {
      "cell_type": "markdown",
      "source": [
        "#### Cosine"
      ],
      "metadata": {
        "id": "LXuI0yxd5i0F"
      }
    },
    {
      "cell_type": "code",
      "source": [
        "# Mengaktifkan fungsi klasifikasi dengan nilai k terbaik dan metrik jarak cosine\n",
        "v_2_klasifikasi_cosine = KNeighborsClassifier(n_neighbors=grid_search.best_params_['n_neighbors'], metric='cosine')\n",
        "\n",
        "# Memasukkan data training pada fungsi klasifikasi\n",
        "v_2_klasifikasi_cosine.fit(x_2_train, y_2_train)"
      ],
      "metadata": {
        "id": "2TLiOlAa4h9s",
        "colab": {
          "base_uri": "https://localhost:8080/",
          "height": 75
        },
        "outputId": "0c80ddf4-77fb-4c54-eb8f-a393e29c8ceb"
      },
      "execution_count": null,
      "outputs": [
        {
          "output_type": "execute_result",
          "data": {
            "text/plain": [
              "KNeighborsClassifier(metric='cosine', n_neighbors=75)"
            ],
            "text/html": [
              "<style>#sk-container-id-31 {color: black;background-color: white;}#sk-container-id-31 pre{padding: 0;}#sk-container-id-31 div.sk-toggleable {background-color: white;}#sk-container-id-31 label.sk-toggleable__label {cursor: pointer;display: block;width: 100%;margin-bottom: 0;padding: 0.3em;box-sizing: border-box;text-align: center;}#sk-container-id-31 label.sk-toggleable__label-arrow:before {content: \"▸\";float: left;margin-right: 0.25em;color: #696969;}#sk-container-id-31 label.sk-toggleable__label-arrow:hover:before {color: black;}#sk-container-id-31 div.sk-estimator:hover label.sk-toggleable__label-arrow:before {color: black;}#sk-container-id-31 div.sk-toggleable__content {max-height: 0;max-width: 0;overflow: hidden;text-align: left;background-color: #f0f8ff;}#sk-container-id-31 div.sk-toggleable__content pre {margin: 0.2em;color: black;border-radius: 0.25em;background-color: #f0f8ff;}#sk-container-id-31 input.sk-toggleable__control:checked~div.sk-toggleable__content {max-height: 200px;max-width: 100%;overflow: auto;}#sk-container-id-31 input.sk-toggleable__control:checked~label.sk-toggleable__label-arrow:before {content: \"▾\";}#sk-container-id-31 div.sk-estimator input.sk-toggleable__control:checked~label.sk-toggleable__label {background-color: #d4ebff;}#sk-container-id-31 div.sk-label input.sk-toggleable__control:checked~label.sk-toggleable__label {background-color: #d4ebff;}#sk-container-id-31 input.sk-hidden--visually {border: 0;clip: rect(1px 1px 1px 1px);clip: rect(1px, 1px, 1px, 1px);height: 1px;margin: -1px;overflow: hidden;padding: 0;position: absolute;width: 1px;}#sk-container-id-31 div.sk-estimator {font-family: monospace;background-color: #f0f8ff;border: 1px dotted black;border-radius: 0.25em;box-sizing: border-box;margin-bottom: 0.5em;}#sk-container-id-31 div.sk-estimator:hover {background-color: #d4ebff;}#sk-container-id-31 div.sk-parallel-item::after {content: \"\";width: 100%;border-bottom: 1px solid gray;flex-grow: 1;}#sk-container-id-31 div.sk-label:hover label.sk-toggleable__label {background-color: #d4ebff;}#sk-container-id-31 div.sk-serial::before {content: \"\";position: absolute;border-left: 1px solid gray;box-sizing: border-box;top: 0;bottom: 0;left: 50%;z-index: 0;}#sk-container-id-31 div.sk-serial {display: flex;flex-direction: column;align-items: center;background-color: white;padding-right: 0.2em;padding-left: 0.2em;position: relative;}#sk-container-id-31 div.sk-item {position: relative;z-index: 1;}#sk-container-id-31 div.sk-parallel {display: flex;align-items: stretch;justify-content: center;background-color: white;position: relative;}#sk-container-id-31 div.sk-item::before, #sk-container-id-31 div.sk-parallel-item::before {content: \"\";position: absolute;border-left: 1px solid gray;box-sizing: border-box;top: 0;bottom: 0;left: 50%;z-index: -1;}#sk-container-id-31 div.sk-parallel-item {display: flex;flex-direction: column;z-index: 1;position: relative;background-color: white;}#sk-container-id-31 div.sk-parallel-item:first-child::after {align-self: flex-end;width: 50%;}#sk-container-id-31 div.sk-parallel-item:last-child::after {align-self: flex-start;width: 50%;}#sk-container-id-31 div.sk-parallel-item:only-child::after {width: 0;}#sk-container-id-31 div.sk-dashed-wrapped {border: 1px dashed gray;margin: 0 0.4em 0.5em 0.4em;box-sizing: border-box;padding-bottom: 0.4em;background-color: white;}#sk-container-id-31 div.sk-label label {font-family: monospace;font-weight: bold;display: inline-block;line-height: 1.2em;}#sk-container-id-31 div.sk-label-container {text-align: center;}#sk-container-id-31 div.sk-container {/* jupyter's `normalize.less` sets `[hidden] { display: none; }` but bootstrap.min.css set `[hidden] { display: none !important; }` so we also need the `!important` here to be able to override the default hidden behavior on the sphinx rendered scikit-learn.org. See: https://github.com/scikit-learn/scikit-learn/issues/21755 */display: inline-block !important;position: relative;}#sk-container-id-31 div.sk-text-repr-fallback {display: none;}</style><div id=\"sk-container-id-31\" class=\"sk-top-container\"><div class=\"sk-text-repr-fallback\"><pre>KNeighborsClassifier(metric=&#x27;cosine&#x27;, n_neighbors=75)</pre><b>In a Jupyter environment, please rerun this cell to show the HTML representation or trust the notebook. <br />On GitHub, the HTML representation is unable to render, please try loading this page with nbviewer.org.</b></div><div class=\"sk-container\" hidden><div class=\"sk-item\"><div class=\"sk-estimator sk-toggleable\"><input class=\"sk-toggleable__control sk-hidden--visually\" id=\"sk-estimator-id-31\" type=\"checkbox\" checked><label for=\"sk-estimator-id-31\" class=\"sk-toggleable__label sk-toggleable__label-arrow\">KNeighborsClassifier</label><div class=\"sk-toggleable__content\"><pre>KNeighborsClassifier(metric=&#x27;cosine&#x27;, n_neighbors=75)</pre></div></div></div></div></div>"
            ]
          },
          "metadata": {},
          "execution_count": 132
        }
      ]
    },
    {
      "cell_type": "code",
      "source": [
        "#menentukan hasil prediksi dari x_test\n",
        "y_2_pred_cosine = v_2_klasifikasi_cosine.predict(x_2_test)\n",
        "y_2_pred_cosine"
      ],
      "metadata": {
        "colab": {
          "base_uri": "https://localhost:8080/"
        },
        "id": "vPfL9NMO4sok",
        "outputId": "51d290c4-5c55-46f4-94f9-d84095e94544"
      },
      "execution_count": null,
      "outputs": [
        {
          "output_type": "execute_result",
          "data": {
            "text/plain": [
              "array(['M', 'M', 'M', 'M', 'I', 'I', 'F', 'I', 'F', 'F', 'I', 'I', 'M',\n",
              "       'F', 'M', 'M', 'I', 'I', 'M', 'I', 'F', 'F', 'I', 'I', 'I', 'M',\n",
              "       'M', 'I', 'I', 'M', 'M', 'M', 'I', 'M', 'M', 'I', 'I', 'I', 'I',\n",
              "       'I', 'M', 'F', 'M', 'I', 'I', 'F', 'F', 'M', 'M', 'I', 'M', 'M',\n",
              "       'I', 'F', 'I', 'F', 'I', 'I', 'I', 'F', 'I', 'I', 'F', 'M', 'I',\n",
              "       'F', 'I', 'M', 'M', 'I', 'I', 'I', 'M', 'M', 'M', 'M', 'I', 'M',\n",
              "       'M', 'I', 'I', 'I', 'M', 'I', 'M', 'M', 'I', 'F', 'M', 'F', 'I',\n",
              "       'I', 'I', 'F', 'F', 'I', 'I', 'I', 'M', 'I', 'F', 'I', 'I', 'I',\n",
              "       'M', 'F', 'I', 'F', 'M', 'M', 'F', 'F', 'I', 'I', 'M', 'I', 'I',\n",
              "       'M', 'I', 'M', 'M', 'I', 'M', 'I', 'F', 'M', 'M', 'M', 'I', 'M',\n",
              "       'F', 'I', 'I', 'I', 'M', 'I', 'F', 'I', 'M', 'I', 'M', 'I', 'I',\n",
              "       'I', 'M', 'F', 'I', 'I', 'F', 'I', 'I', 'I', 'F', 'I', 'M', 'M',\n",
              "       'M', 'M', 'F', 'M', 'M', 'M', 'I', 'F', 'M', 'I', 'I', 'M', 'M',\n",
              "       'M', 'M', 'M', 'M', 'M', 'F', 'I', 'F', 'M', 'I', 'M', 'I', 'F',\n",
              "       'M', 'I', 'I', 'I', 'I', 'F', 'I', 'I', 'M', 'I', 'M', 'M', 'I',\n",
              "       'I', 'F', 'M', 'F', 'I', 'M', 'I', 'I', 'I', 'I', 'I', 'M', 'M',\n",
              "       'F', 'I', 'F', 'M', 'M', 'F', 'I', 'F', 'I', 'I', 'M', 'M', 'I',\n",
              "       'M', 'F', 'I', 'M', 'I', 'M', 'I', 'I', 'M', 'F', 'M', 'M', 'I',\n",
              "       'F', 'M', 'I', 'M', 'M', 'M', 'F', 'M', 'F', 'I', 'M', 'F', 'I',\n",
              "       'F', 'M', 'I', 'M', 'I', 'I', 'I', 'I', 'I', 'I', 'I', 'I', 'M',\n",
              "       'F', 'I', 'M', 'M', 'I', 'I', 'M', 'F', 'I', 'I', 'I', 'M', 'I',\n",
              "       'F', 'I', 'I', 'M', 'M', 'I', 'F', 'F', 'M', 'I', 'I', 'M', 'F',\n",
              "       'F', 'M', 'I', 'I', 'I', 'F', 'F', 'M', 'M', 'F', 'M', 'I', 'M',\n",
              "       'M', 'M', 'I', 'M', 'M', 'M', 'M', 'I', 'F', 'M', 'I', 'M', 'I',\n",
              "       'I', 'F', 'M', 'I', 'I', 'F', 'I', 'I', 'M', 'I', 'M', 'I', 'F',\n",
              "       'M', 'I', 'F', 'F', 'M', 'I', 'I', 'I', 'I', 'I', 'I', 'M', 'I',\n",
              "       'I', 'M', 'M', 'I', 'F', 'I', 'F', 'I', 'I', 'I', 'I', 'F', 'I',\n",
              "       'I', 'F', 'I', 'I', 'F', 'M', 'M', 'I', 'I', 'I', 'I', 'M', 'I',\n",
              "       'I', 'I', 'M', 'M', 'M', 'F', 'I', 'I', 'I', 'M', 'M', 'I', 'M',\n",
              "       'M', 'M', 'I', 'M', 'M', 'F', 'I', 'M', 'F', 'M', 'I', 'F', 'I',\n",
              "       'M', 'M', 'M', 'F', 'I', 'M', 'M', 'I', 'F', 'I', 'I', 'F', 'M',\n",
              "       'I', 'I', 'I', 'M', 'F', 'M', 'F', 'I', 'M', 'F', 'M', 'F', 'M',\n",
              "       'I', 'M'], dtype=object)"
            ]
          },
          "metadata": {},
          "execution_count": 133
        }
      ]
    },
    {
      "cell_type": "markdown",
      "source": [
        "#### Euclidean"
      ],
      "metadata": {
        "id": "6VI9dHNx5tbG"
      }
    },
    {
      "cell_type": "code",
      "source": [
        "#mengaktifkan fungsi klasifikasi\n",
        "v_2_klasifikasi_euclidean = KNeighborsClassifier(n_neighbors=grid_search.best_params_['n_neighbors'], metric='euclidean')\n",
        "\n",
        "#memasukkan data training pada fungsi klasifikasi\n",
        "v_2_klasifikasi_euclidean.fit(x_2_train, y_2_train)"
      ],
      "metadata": {
        "id": "-jp3pQGF5vMS",
        "colab": {
          "base_uri": "https://localhost:8080/",
          "height": 75
        },
        "outputId": "2bae5ab5-38ef-4fea-d1a7-213cb77b75c0"
      },
      "execution_count": null,
      "outputs": [
        {
          "output_type": "execute_result",
          "data": {
            "text/plain": [
              "KNeighborsClassifier(metric='euclidean', n_neighbors=75)"
            ],
            "text/html": [
              "<style>#sk-container-id-32 {color: black;background-color: white;}#sk-container-id-32 pre{padding: 0;}#sk-container-id-32 div.sk-toggleable {background-color: white;}#sk-container-id-32 label.sk-toggleable__label {cursor: pointer;display: block;width: 100%;margin-bottom: 0;padding: 0.3em;box-sizing: border-box;text-align: center;}#sk-container-id-32 label.sk-toggleable__label-arrow:before {content: \"▸\";float: left;margin-right: 0.25em;color: #696969;}#sk-container-id-32 label.sk-toggleable__label-arrow:hover:before {color: black;}#sk-container-id-32 div.sk-estimator:hover label.sk-toggleable__label-arrow:before {color: black;}#sk-container-id-32 div.sk-toggleable__content {max-height: 0;max-width: 0;overflow: hidden;text-align: left;background-color: #f0f8ff;}#sk-container-id-32 div.sk-toggleable__content pre {margin: 0.2em;color: black;border-radius: 0.25em;background-color: #f0f8ff;}#sk-container-id-32 input.sk-toggleable__control:checked~div.sk-toggleable__content {max-height: 200px;max-width: 100%;overflow: auto;}#sk-container-id-32 input.sk-toggleable__control:checked~label.sk-toggleable__label-arrow:before {content: \"▾\";}#sk-container-id-32 div.sk-estimator input.sk-toggleable__control:checked~label.sk-toggleable__label {background-color: #d4ebff;}#sk-container-id-32 div.sk-label input.sk-toggleable__control:checked~label.sk-toggleable__label {background-color: #d4ebff;}#sk-container-id-32 input.sk-hidden--visually {border: 0;clip: rect(1px 1px 1px 1px);clip: rect(1px, 1px, 1px, 1px);height: 1px;margin: -1px;overflow: hidden;padding: 0;position: absolute;width: 1px;}#sk-container-id-32 div.sk-estimator {font-family: monospace;background-color: #f0f8ff;border: 1px dotted black;border-radius: 0.25em;box-sizing: border-box;margin-bottom: 0.5em;}#sk-container-id-32 div.sk-estimator:hover {background-color: #d4ebff;}#sk-container-id-32 div.sk-parallel-item::after {content: \"\";width: 100%;border-bottom: 1px solid gray;flex-grow: 1;}#sk-container-id-32 div.sk-label:hover label.sk-toggleable__label {background-color: #d4ebff;}#sk-container-id-32 div.sk-serial::before {content: \"\";position: absolute;border-left: 1px solid gray;box-sizing: border-box;top: 0;bottom: 0;left: 50%;z-index: 0;}#sk-container-id-32 div.sk-serial {display: flex;flex-direction: column;align-items: center;background-color: white;padding-right: 0.2em;padding-left: 0.2em;position: relative;}#sk-container-id-32 div.sk-item {position: relative;z-index: 1;}#sk-container-id-32 div.sk-parallel {display: flex;align-items: stretch;justify-content: center;background-color: white;position: relative;}#sk-container-id-32 div.sk-item::before, #sk-container-id-32 div.sk-parallel-item::before {content: \"\";position: absolute;border-left: 1px solid gray;box-sizing: border-box;top: 0;bottom: 0;left: 50%;z-index: -1;}#sk-container-id-32 div.sk-parallel-item {display: flex;flex-direction: column;z-index: 1;position: relative;background-color: white;}#sk-container-id-32 div.sk-parallel-item:first-child::after {align-self: flex-end;width: 50%;}#sk-container-id-32 div.sk-parallel-item:last-child::after {align-self: flex-start;width: 50%;}#sk-container-id-32 div.sk-parallel-item:only-child::after {width: 0;}#sk-container-id-32 div.sk-dashed-wrapped {border: 1px dashed gray;margin: 0 0.4em 0.5em 0.4em;box-sizing: border-box;padding-bottom: 0.4em;background-color: white;}#sk-container-id-32 div.sk-label label {font-family: monospace;font-weight: bold;display: inline-block;line-height: 1.2em;}#sk-container-id-32 div.sk-label-container {text-align: center;}#sk-container-id-32 div.sk-container {/* jupyter's `normalize.less` sets `[hidden] { display: none; }` but bootstrap.min.css set `[hidden] { display: none !important; }` so we also need the `!important` here to be able to override the default hidden behavior on the sphinx rendered scikit-learn.org. See: https://github.com/scikit-learn/scikit-learn/issues/21755 */display: inline-block !important;position: relative;}#sk-container-id-32 div.sk-text-repr-fallback {display: none;}</style><div id=\"sk-container-id-32\" class=\"sk-top-container\"><div class=\"sk-text-repr-fallback\"><pre>KNeighborsClassifier(metric=&#x27;euclidean&#x27;, n_neighbors=75)</pre><b>In a Jupyter environment, please rerun this cell to show the HTML representation or trust the notebook. <br />On GitHub, the HTML representation is unable to render, please try loading this page with nbviewer.org.</b></div><div class=\"sk-container\" hidden><div class=\"sk-item\"><div class=\"sk-estimator sk-toggleable\"><input class=\"sk-toggleable__control sk-hidden--visually\" id=\"sk-estimator-id-32\" type=\"checkbox\" checked><label for=\"sk-estimator-id-32\" class=\"sk-toggleable__label sk-toggleable__label-arrow\">KNeighborsClassifier</label><div class=\"sk-toggleable__content\"><pre>KNeighborsClassifier(metric=&#x27;euclidean&#x27;, n_neighbors=75)</pre></div></div></div></div></div>"
            ]
          },
          "metadata": {},
          "execution_count": 134
        }
      ]
    },
    {
      "cell_type": "code",
      "source": [
        "#menentukan hasil prediksi dari x_test\n",
        "y_2_pred_euclidean = v_2_klasifikasi_euclidean.predict(x_2_test)\n",
        "y_2_pred_euclidean"
      ],
      "metadata": {
        "colab": {
          "base_uri": "https://localhost:8080/"
        },
        "id": "shXQFCSt5v6Q",
        "outputId": "4f72921e-53bd-465d-d243-1aa12cb876c1"
      },
      "execution_count": null,
      "outputs": [
        {
          "output_type": "execute_result",
          "data": {
            "text/plain": [
              "array(['M', 'M', 'M', 'I', 'I', 'M', 'F', 'I', 'M', 'M', 'M', 'I', 'M',\n",
              "       'M', 'M', 'F', 'M', 'I', 'F', 'I', 'M', 'M', 'I', 'M', 'I', 'M',\n",
              "       'M', 'F', 'I', 'M', 'M', 'M', 'I', 'F', 'F', 'I', 'I', 'I', 'I',\n",
              "       'I', 'M', 'F', 'M', 'M', 'F', 'M', 'F', 'F', 'M', 'I', 'M', 'F',\n",
              "       'I', 'M', 'I', 'M', 'I', 'I', 'M', 'M', 'I', 'I', 'F', 'M', 'I',\n",
              "       'F', 'M', 'M', 'F', 'I', 'I', 'I', 'M', 'F', 'F', 'M', 'I', 'M',\n",
              "       'F', 'I', 'I', 'I', 'M', 'I', 'M', 'F', 'I', 'M', 'I', 'F', 'I',\n",
              "       'I', 'I', 'I', 'F', 'I', 'M', 'I', 'F', 'I', 'M', 'I', 'I', 'I',\n",
              "       'F', 'F', 'I', 'I', 'M', 'M', 'F', 'M', 'I', 'I', 'F', 'I', 'M',\n",
              "       'F', 'I', 'I', 'M', 'I', 'F', 'M', 'M', 'M', 'I', 'F', 'I', 'M',\n",
              "       'F', 'I', 'I', 'I', 'I', 'I', 'F', 'I', 'M', 'I', 'F', 'I', 'I',\n",
              "       'I', 'M', 'M', 'I', 'F', 'F', 'I', 'I', 'I', 'M', 'I', 'M', 'M',\n",
              "       'F', 'M', 'M', 'I', 'F', 'F', 'I', 'M', 'M', 'I', 'I', 'M', 'F',\n",
              "       'M', 'M', 'F', 'M', 'M', 'I', 'M', 'M', 'M', 'I', 'F', 'F', 'F',\n",
              "       'M', 'I', 'I', 'I', 'I', 'M', 'I', 'I', 'M', 'M', 'M', 'M', 'I',\n",
              "       'I', 'F', 'M', 'F', 'I', 'M', 'I', 'I', 'I', 'I', 'M', 'M', 'M',\n",
              "       'F', 'I', 'F', 'F', 'F', 'M', 'I', 'M', 'I', 'I', 'M', 'F', 'I',\n",
              "       'M', 'F', 'I', 'F', 'I', 'M', 'M', 'I', 'M', 'F', 'M', 'M', 'I',\n",
              "       'M', 'M', 'I', 'F', 'F', 'F', 'F', 'M', 'M', 'M', 'M', 'M', 'I',\n",
              "       'F', 'M', 'I', 'I', 'I', 'I', 'I', 'I', 'I', 'F', 'I', 'I', 'I',\n",
              "       'M', 'I', 'M', 'F', 'I', 'I', 'M', 'F', 'I', 'I', 'I', 'F', 'I',\n",
              "       'F', 'I', 'F', 'M', 'M', 'I', 'M', 'F', 'M', 'I', 'I', 'M', 'M',\n",
              "       'F', 'M', 'I', 'I', 'I', 'M', 'M', 'M', 'I', 'M', 'M', 'M', 'M',\n",
              "       'F', 'M', 'I', 'F', 'M', 'F', 'M', 'I', 'M', 'M', 'I', 'F', 'I',\n",
              "       'I', 'F', 'I', 'I', 'I', 'F', 'I', 'I', 'M', 'I', 'M', 'I', 'M',\n",
              "       'F', 'I', 'F', 'M', 'M', 'I', 'I', 'I', 'I', 'I', 'I', 'F', 'I',\n",
              "       'I', 'M', 'M', 'F', 'M', 'I', 'F', 'I', 'I', 'I', 'I', 'F', 'I',\n",
              "       'I', 'F', 'I', 'I', 'M', 'M', 'M', 'I', 'F', 'I', 'F', 'M', 'I',\n",
              "       'M', 'M', 'M', 'M', 'M', 'F', 'I', 'I', 'M', 'M', 'M', 'I', 'F',\n",
              "       'F', 'F', 'I', 'I', 'M', 'M', 'I', 'M', 'F', 'M', 'I', 'M', 'I',\n",
              "       'M', 'M', 'F', 'F', 'I', 'F', 'M', 'I', 'M', 'M', 'I', 'M', 'M',\n",
              "       'M', 'I', 'I', 'M', 'M', 'F', 'M', 'I', 'M', 'F', 'M', 'F', 'F',\n",
              "       'I', 'M'], dtype=object)"
            ]
          },
          "metadata": {},
          "execution_count": 135
        }
      ]
    },
    {
      "cell_type": "markdown",
      "source": [
        "#### Manhattan"
      ],
      "metadata": {
        "id": "ysXN4ZEy9340"
      }
    },
    {
      "cell_type": "code",
      "source": [
        "#mengaktifkan fungsi klasifikasi\n",
        "v_2_klasifikasi_manhattan = KNeighborsClassifier(n_neighbors=grid_search.best_params_['n_neighbors'], metric='manhattan')\n",
        "\n",
        "#memasukkan data training pada fungsi klasifikasi\n",
        "v_2_klasifikasi_manhattan.fit(x_2_train, y_2_train)"
      ],
      "metadata": {
        "id": "Kn9jKNUU98O6",
        "colab": {
          "base_uri": "https://localhost:8080/",
          "height": 75
        },
        "outputId": "54e44ff4-efc8-4878-a081-b342ce129f01"
      },
      "execution_count": null,
      "outputs": [
        {
          "output_type": "execute_result",
          "data": {
            "text/plain": [
              "KNeighborsClassifier(metric='manhattan', n_neighbors=75)"
            ],
            "text/html": [
              "<style>#sk-container-id-33 {color: black;background-color: white;}#sk-container-id-33 pre{padding: 0;}#sk-container-id-33 div.sk-toggleable {background-color: white;}#sk-container-id-33 label.sk-toggleable__label {cursor: pointer;display: block;width: 100%;margin-bottom: 0;padding: 0.3em;box-sizing: border-box;text-align: center;}#sk-container-id-33 label.sk-toggleable__label-arrow:before {content: \"▸\";float: left;margin-right: 0.25em;color: #696969;}#sk-container-id-33 label.sk-toggleable__label-arrow:hover:before {color: black;}#sk-container-id-33 div.sk-estimator:hover label.sk-toggleable__label-arrow:before {color: black;}#sk-container-id-33 div.sk-toggleable__content {max-height: 0;max-width: 0;overflow: hidden;text-align: left;background-color: #f0f8ff;}#sk-container-id-33 div.sk-toggleable__content pre {margin: 0.2em;color: black;border-radius: 0.25em;background-color: #f0f8ff;}#sk-container-id-33 input.sk-toggleable__control:checked~div.sk-toggleable__content {max-height: 200px;max-width: 100%;overflow: auto;}#sk-container-id-33 input.sk-toggleable__control:checked~label.sk-toggleable__label-arrow:before {content: \"▾\";}#sk-container-id-33 div.sk-estimator input.sk-toggleable__control:checked~label.sk-toggleable__label {background-color: #d4ebff;}#sk-container-id-33 div.sk-label input.sk-toggleable__control:checked~label.sk-toggleable__label {background-color: #d4ebff;}#sk-container-id-33 input.sk-hidden--visually {border: 0;clip: rect(1px 1px 1px 1px);clip: rect(1px, 1px, 1px, 1px);height: 1px;margin: -1px;overflow: hidden;padding: 0;position: absolute;width: 1px;}#sk-container-id-33 div.sk-estimator {font-family: monospace;background-color: #f0f8ff;border: 1px dotted black;border-radius: 0.25em;box-sizing: border-box;margin-bottom: 0.5em;}#sk-container-id-33 div.sk-estimator:hover {background-color: #d4ebff;}#sk-container-id-33 div.sk-parallel-item::after {content: \"\";width: 100%;border-bottom: 1px solid gray;flex-grow: 1;}#sk-container-id-33 div.sk-label:hover label.sk-toggleable__label {background-color: #d4ebff;}#sk-container-id-33 div.sk-serial::before {content: \"\";position: absolute;border-left: 1px solid gray;box-sizing: border-box;top: 0;bottom: 0;left: 50%;z-index: 0;}#sk-container-id-33 div.sk-serial {display: flex;flex-direction: column;align-items: center;background-color: white;padding-right: 0.2em;padding-left: 0.2em;position: relative;}#sk-container-id-33 div.sk-item {position: relative;z-index: 1;}#sk-container-id-33 div.sk-parallel {display: flex;align-items: stretch;justify-content: center;background-color: white;position: relative;}#sk-container-id-33 div.sk-item::before, #sk-container-id-33 div.sk-parallel-item::before {content: \"\";position: absolute;border-left: 1px solid gray;box-sizing: border-box;top: 0;bottom: 0;left: 50%;z-index: -1;}#sk-container-id-33 div.sk-parallel-item {display: flex;flex-direction: column;z-index: 1;position: relative;background-color: white;}#sk-container-id-33 div.sk-parallel-item:first-child::after {align-self: flex-end;width: 50%;}#sk-container-id-33 div.sk-parallel-item:last-child::after {align-self: flex-start;width: 50%;}#sk-container-id-33 div.sk-parallel-item:only-child::after {width: 0;}#sk-container-id-33 div.sk-dashed-wrapped {border: 1px dashed gray;margin: 0 0.4em 0.5em 0.4em;box-sizing: border-box;padding-bottom: 0.4em;background-color: white;}#sk-container-id-33 div.sk-label label {font-family: monospace;font-weight: bold;display: inline-block;line-height: 1.2em;}#sk-container-id-33 div.sk-label-container {text-align: center;}#sk-container-id-33 div.sk-container {/* jupyter's `normalize.less` sets `[hidden] { display: none; }` but bootstrap.min.css set `[hidden] { display: none !important; }` so we also need the `!important` here to be able to override the default hidden behavior on the sphinx rendered scikit-learn.org. See: https://github.com/scikit-learn/scikit-learn/issues/21755 */display: inline-block !important;position: relative;}#sk-container-id-33 div.sk-text-repr-fallback {display: none;}</style><div id=\"sk-container-id-33\" class=\"sk-top-container\"><div class=\"sk-text-repr-fallback\"><pre>KNeighborsClassifier(metric=&#x27;manhattan&#x27;, n_neighbors=75)</pre><b>In a Jupyter environment, please rerun this cell to show the HTML representation or trust the notebook. <br />On GitHub, the HTML representation is unable to render, please try loading this page with nbviewer.org.</b></div><div class=\"sk-container\" hidden><div class=\"sk-item\"><div class=\"sk-estimator sk-toggleable\"><input class=\"sk-toggleable__control sk-hidden--visually\" id=\"sk-estimator-id-33\" type=\"checkbox\" checked><label for=\"sk-estimator-id-33\" class=\"sk-toggleable__label sk-toggleable__label-arrow\">KNeighborsClassifier</label><div class=\"sk-toggleable__content\"><pre>KNeighborsClassifier(metric=&#x27;manhattan&#x27;, n_neighbors=75)</pre></div></div></div></div></div>"
            ]
          },
          "metadata": {},
          "execution_count": 136
        }
      ]
    },
    {
      "cell_type": "code",
      "source": [
        "#menentukan hasil prediksi dari x_test\n",
        "y_2_pred_manhattan = v_2_klasifikasi_manhattan.predict(x_2_test)\n",
        "y_2_pred_manhattan"
      ],
      "metadata": {
        "colab": {
          "base_uri": "https://localhost:8080/"
        },
        "id": "iIvtqALH-DUY",
        "outputId": "7874318b-95f8-49bf-b820-3bd157863dd9"
      },
      "execution_count": null,
      "outputs": [
        {
          "output_type": "execute_result",
          "data": {
            "text/plain": [
              "array(['M', 'M', 'M', 'I', 'I', 'M', 'F', 'I', 'M', 'M', 'M', 'I', 'M',\n",
              "       'M', 'M', 'F', 'M', 'I', 'M', 'I', 'F', 'M', 'I', 'M', 'I', 'M',\n",
              "       'M', 'F', 'I', 'M', 'M', 'M', 'I', 'F', 'F', 'I', 'I', 'I', 'I',\n",
              "       'I', 'M', 'F', 'M', 'M', 'F', 'M', 'F', 'F', 'M', 'I', 'M', 'F',\n",
              "       'I', 'M', 'I', 'M', 'I', 'F', 'M', 'M', 'I', 'I', 'F', 'M', 'I',\n",
              "       'F', 'M', 'M', 'M', 'I', 'I', 'I', 'M', 'F', 'M', 'M', 'I', 'M',\n",
              "       'F', 'I', 'I', 'I', 'M', 'I', 'M', 'F', 'I', 'F', 'I', 'F', 'I',\n",
              "       'I', 'I', 'I', 'F', 'I', 'M', 'I', 'F', 'I', 'M', 'I', 'I', 'I',\n",
              "       'F', 'F', 'I', 'M', 'M', 'M', 'F', 'F', 'I', 'I', 'M', 'I', 'M',\n",
              "       'M', 'I', 'M', 'M', 'I', 'F', 'M', 'M', 'M', 'I', 'M', 'I', 'M',\n",
              "       'F', 'I', 'I', 'I', 'M', 'I', 'F', 'I', 'M', 'I', 'F', 'I', 'I',\n",
              "       'I', 'M', 'M', 'I', 'F', 'M', 'I', 'I', 'I', 'M', 'I', 'M', 'M',\n",
              "       'F', 'M', 'M', 'I', 'F', 'F', 'I', 'M', 'M', 'I', 'I', 'M', 'F',\n",
              "       'M', 'M', 'F', 'M', 'M', 'I', 'I', 'F', 'M', 'I', 'M', 'F', 'M',\n",
              "       'M', 'I', 'I', 'I', 'I', 'M', 'I', 'I', 'M', 'M', 'M', 'M', 'I',\n",
              "       'I', 'F', 'M', 'F', 'I', 'M', 'I', 'I', 'I', 'I', 'M', 'M', 'M',\n",
              "       'F', 'I', 'F', 'M', 'F', 'M', 'I', 'M', 'I', 'I', 'M', 'F', 'I',\n",
              "       'M', 'F', 'I', 'I', 'I', 'M', 'M', 'I', 'M', 'F', 'M', 'M', 'I',\n",
              "       'M', 'M', 'I', 'F', 'F', 'F', 'F', 'M', 'M', 'M', 'M', 'M', 'I',\n",
              "       'F', 'M', 'I', 'M', 'I', 'I', 'I', 'I', 'I', 'F', 'I', 'I', 'I',\n",
              "       'I', 'I', 'M', 'F', 'I', 'I', 'M', 'F', 'I', 'I', 'I', 'F', 'I',\n",
              "       'F', 'I', 'F', 'I', 'M', 'I', 'M', 'F', 'M', 'I', 'I', 'M', 'M',\n",
              "       'M', 'M', 'I', 'I', 'I', 'M', 'M', 'M', 'I', 'M', 'M', 'M', 'M',\n",
              "       'F', 'M', 'I', 'F', 'M', 'M', 'F', 'I', 'M', 'M', 'I', 'F', 'I',\n",
              "       'I', 'F', 'I', 'I', 'I', 'M', 'I', 'I', 'M', 'I', 'M', 'I', 'M',\n",
              "       'F', 'I', 'F', 'M', 'M', 'I', 'I', 'I', 'I', 'I', 'I', 'F', 'I',\n",
              "       'I', 'M', 'M', 'F', 'M', 'I', 'F', 'I', 'I', 'I', 'I', 'M', 'I',\n",
              "       'I', 'F', 'I', 'I', 'F', 'M', 'F', 'I', 'F', 'I', 'M', 'M', 'I',\n",
              "       'M', 'M', 'M', 'M', 'M', 'F', 'M', 'I', 'M', 'M', 'M', 'M', 'F',\n",
              "       'F', 'M', 'I', 'I', 'M', 'M', 'I', 'M', 'F', 'M', 'I', 'F', 'I',\n",
              "       'M', 'M', 'F', 'F', 'I', 'M', 'M', 'I', 'M', 'F', 'I', 'M', 'M',\n",
              "       'M', 'I', 'I', 'M', 'M', 'F', 'M', 'I', 'F', 'F', 'M', 'F', 'F',\n",
              "       'I', 'M'], dtype=object)"
            ]
          },
          "metadata": {},
          "execution_count": 137
        }
      ]
    },
    {
      "cell_type": "markdown",
      "source": [
        "## 3 Parameter (Height, WholeWeight, dan ShuckedWeight)"
      ],
      "metadata": {
        "id": "46Zfpin9Rqdk"
      }
    },
    {
      "cell_type": "markdown",
      "source": [
        "**MENENTUKAN VARIABEL INDEPENDEN (X) DAN VARIABEL DEPENDEN (Y)**"
      ],
      "metadata": {
        "id": "VpLGJEylRyWa"
      }
    },
    {
      "cell_type": "code",
      "source": [
        "# # Membuat variabel independen dari 2 parameter\n",
        "x_3 = data[['Height', 'WholeWeight', 'ShuckedWeight']]\n",
        "\n",
        "# Menentukan variabel dependen dari 2 parameter\n",
        "y_3 = data['Type']\n",
        "\n",
        "# Membagi data menjadi data training dan testing\n",
        "x_3_train, x_3_test, y_3_train, y_3_test = train_test_split(\n",
        "    x_3, y_3, test_size=0.1, random_state=42)\n",
        "\n",
        "# Cetak ukuran data training dan testing\n",
        "print(\"Jumlah data training:\", len(x_3_train))\n",
        "print(\"Jumlah data testing:\", len(x_3_test))"
      ],
      "metadata": {
        "colab": {
          "base_uri": "https://localhost:8080/"
        },
        "id": "ZkIrlnIaRxyA",
        "outputId": "7a3a489d-bb07-4747-fde7-be9cc6bb7170"
      },
      "execution_count": null,
      "outputs": [
        {
          "output_type": "stream",
          "name": "stdout",
          "text": [
            "Jumlah data training: 3756\n",
            "Jumlah data testing: 418\n"
          ]
        }
      ]
    },
    {
      "cell_type": "markdown",
      "source": [
        "**PRE-PROCESSING DATA (TIDAK PERLU KARENA HASIL AKURASI JADI MENURUN)**"
      ],
      "metadata": {
        "id": "1YpGzCH3SEp0"
      }
    },
    {
      "cell_type": "code",
      "source": [
        "# # Memperbaiki distribusi data numerik\n",
        "\n",
        "# # PowerTransformer (dengan metode Yeo-Johnson)\n",
        "# pt = PowerTransformer(method='yeo-johnson')\n",
        "\n",
        "# # Transformasi data numerik agar mendekati / lebih terdistribusi secara normal\n",
        "# x_3_train_pt = pt.fit_transform(x_3_train)\n",
        "\n",
        "# # Cetak hasil transformasi\n",
        "# print(x_3_train_pt)"
      ],
      "metadata": {
        "id": "T1I5pzSWSDGl"
      },
      "execution_count": null,
      "outputs": []
    },
    {
      "cell_type": "code",
      "source": [
        "# # Normalisasi data menggunakan min-max scaler ke skala 0-1\n",
        "# # Penskalaan diperlukan untuk knn yang sensitif terhadap penskalaan dan outlier\n",
        "\n",
        "# mm = MinMaxScaler()\n",
        "# x_3_train_scaled = mm.fit_transform(x_3_train_pt)"
      ],
      "metadata": {
        "id": "7ZM09fX3SDez"
      },
      "execution_count": null,
      "outputs": []
    },
    {
      "cell_type": "code",
      "source": [
        "# # Menggunakan SMOTE (Synthetic Minority Over-sampling Technique) dalam menangani ketidakseimbangan kelas\n",
        "\n",
        "# # Membuat SMOTE instance\n",
        "# smote = SMOTE(random_state=42)\n",
        "\n",
        "# # Melakukan oversampling hanya pada data training\n",
        "# x_3_train_smote, y_3_train_smote = smote.fit_resample(x_3_train_scaled, y_3_train)\n",
        "\n",
        "# # Cetak ukuran data training yang telah seimbang\n",
        "# print(\"Jumlah data training setelah SMOTE:\", len(x_3_train_smote))"
      ],
      "metadata": {
        "id": "iyudHR5mScGh"
      },
      "execution_count": null,
      "outputs": []
    },
    {
      "cell_type": "code",
      "source": [
        "# # Hasil Distribusi Fitur Setelah Transformasi dan Penskalaan\n",
        "# pd.DataFrame(x_3_train_smote, columns=x_3.columns).hist(figsize=(10, 6), color='#AB704D')\n",
        "# plt.show()"
      ],
      "metadata": {
        "id": "5hrxGj1iSd13"
      },
      "execution_count": null,
      "outputs": []
    },
    {
      "cell_type": "markdown",
      "source": [
        "**MENENTUKAN NILAI K (GRIDSEARCHCV)**"
      ],
      "metadata": {
        "id": "MiPI7ENSdaT5"
      }
    },
    {
      "cell_type": "code",
      "source": [
        "# Masukkan rentang k\n",
        "param_grid = {'n_neighbors': np.arange(1, 100)}\n",
        "\n",
        "# Buat objek GridSearchCV\n",
        "grid_search = GridSearchCV(KNeighborsClassifier(), param_grid, cv=3, scoring='accuracy')\n",
        "\n",
        "# Latih model menggunakan data training yang telah di-SMOTE, di-transformasi, dan di-scaling\n",
        "grid_search.fit(x_3_train, y_3_train)\n",
        "\n",
        "# Cetak parameter terbaik yang ditemukan\n",
        "print(\"Parameter terbaik:\", grid_search.best_params_)"
      ],
      "metadata": {
        "colab": {
          "base_uri": "https://localhost:8080/"
        },
        "id": "q8mWVHMbSd7v",
        "outputId": "7e156e69-2375-4e49-ee93-270a02aaa337"
      },
      "execution_count": null,
      "outputs": [
        {
          "output_type": "stream",
          "name": "stdout",
          "text": [
            "Parameter terbaik: {'n_neighbors': 80}\n"
          ]
        }
      ]
    },
    {
      "cell_type": "markdown",
      "source": [
        "Selanjutnya akan digunanakan percobaan 4 jenis distance untuk klasifikasi kNN, yaitu:\n",
        "\n",
        "*   Model 1 : Default Distance (Minkowski)\n",
        "*   Model 2 : Cosine Distance\n",
        "*   Model 3 : Euclidean Distance\n",
        "*   Model 4 : Manhattan Distance"
      ],
      "metadata": {
        "id": "hOkU6CcAGoUC"
      }
    },
    {
      "cell_type": "markdown",
      "source": [
        "#### Default Distance (Minkowski)"
      ],
      "metadata": {
        "id": "OKkN88qyS2xI"
      }
    },
    {
      "cell_type": "code",
      "source": [
        "#mengaktifkan fungsi klasifikasi\n",
        "v_3_klasifikasi_minkowski = KNeighborsClassifier(n_neighbors=grid_search.best_params_['n_neighbors'])\n",
        "\n",
        "#memasukkan data training pada fungsi klasifikasi\n",
        "v_3_klasifikasi_minkowski.fit(x_3_train, y_3_train)"
      ],
      "metadata": {
        "colab": {
          "base_uri": "https://localhost:8080/",
          "height": 75
        },
        "id": "-sz1tL10YvMS",
        "outputId": "19d9dd4e-f642-4031-9bde-0b09841c560c"
      },
      "execution_count": null,
      "outputs": [
        {
          "output_type": "execute_result",
          "data": {
            "text/plain": [
              "KNeighborsClassifier(n_neighbors=80)"
            ],
            "text/html": [
              "<style>#sk-container-id-34 {color: black;background-color: white;}#sk-container-id-34 pre{padding: 0;}#sk-container-id-34 div.sk-toggleable {background-color: white;}#sk-container-id-34 label.sk-toggleable__label {cursor: pointer;display: block;width: 100%;margin-bottom: 0;padding: 0.3em;box-sizing: border-box;text-align: center;}#sk-container-id-34 label.sk-toggleable__label-arrow:before {content: \"▸\";float: left;margin-right: 0.25em;color: #696969;}#sk-container-id-34 label.sk-toggleable__label-arrow:hover:before {color: black;}#sk-container-id-34 div.sk-estimator:hover label.sk-toggleable__label-arrow:before {color: black;}#sk-container-id-34 div.sk-toggleable__content {max-height: 0;max-width: 0;overflow: hidden;text-align: left;background-color: #f0f8ff;}#sk-container-id-34 div.sk-toggleable__content pre {margin: 0.2em;color: black;border-radius: 0.25em;background-color: #f0f8ff;}#sk-container-id-34 input.sk-toggleable__control:checked~div.sk-toggleable__content {max-height: 200px;max-width: 100%;overflow: auto;}#sk-container-id-34 input.sk-toggleable__control:checked~label.sk-toggleable__label-arrow:before {content: \"▾\";}#sk-container-id-34 div.sk-estimator input.sk-toggleable__control:checked~label.sk-toggleable__label {background-color: #d4ebff;}#sk-container-id-34 div.sk-label input.sk-toggleable__control:checked~label.sk-toggleable__label {background-color: #d4ebff;}#sk-container-id-34 input.sk-hidden--visually {border: 0;clip: rect(1px 1px 1px 1px);clip: rect(1px, 1px, 1px, 1px);height: 1px;margin: -1px;overflow: hidden;padding: 0;position: absolute;width: 1px;}#sk-container-id-34 div.sk-estimator {font-family: monospace;background-color: #f0f8ff;border: 1px dotted black;border-radius: 0.25em;box-sizing: border-box;margin-bottom: 0.5em;}#sk-container-id-34 div.sk-estimator:hover {background-color: #d4ebff;}#sk-container-id-34 div.sk-parallel-item::after {content: \"\";width: 100%;border-bottom: 1px solid gray;flex-grow: 1;}#sk-container-id-34 div.sk-label:hover label.sk-toggleable__label {background-color: #d4ebff;}#sk-container-id-34 div.sk-serial::before {content: \"\";position: absolute;border-left: 1px solid gray;box-sizing: border-box;top: 0;bottom: 0;left: 50%;z-index: 0;}#sk-container-id-34 div.sk-serial {display: flex;flex-direction: column;align-items: center;background-color: white;padding-right: 0.2em;padding-left: 0.2em;position: relative;}#sk-container-id-34 div.sk-item {position: relative;z-index: 1;}#sk-container-id-34 div.sk-parallel {display: flex;align-items: stretch;justify-content: center;background-color: white;position: relative;}#sk-container-id-34 div.sk-item::before, #sk-container-id-34 div.sk-parallel-item::before {content: \"\";position: absolute;border-left: 1px solid gray;box-sizing: border-box;top: 0;bottom: 0;left: 50%;z-index: -1;}#sk-container-id-34 div.sk-parallel-item {display: flex;flex-direction: column;z-index: 1;position: relative;background-color: white;}#sk-container-id-34 div.sk-parallel-item:first-child::after {align-self: flex-end;width: 50%;}#sk-container-id-34 div.sk-parallel-item:last-child::after {align-self: flex-start;width: 50%;}#sk-container-id-34 div.sk-parallel-item:only-child::after {width: 0;}#sk-container-id-34 div.sk-dashed-wrapped {border: 1px dashed gray;margin: 0 0.4em 0.5em 0.4em;box-sizing: border-box;padding-bottom: 0.4em;background-color: white;}#sk-container-id-34 div.sk-label label {font-family: monospace;font-weight: bold;display: inline-block;line-height: 1.2em;}#sk-container-id-34 div.sk-label-container {text-align: center;}#sk-container-id-34 div.sk-container {/* jupyter's `normalize.less` sets `[hidden] { display: none; }` but bootstrap.min.css set `[hidden] { display: none !important; }` so we also need the `!important` here to be able to override the default hidden behavior on the sphinx rendered scikit-learn.org. See: https://github.com/scikit-learn/scikit-learn/issues/21755 */display: inline-block !important;position: relative;}#sk-container-id-34 div.sk-text-repr-fallback {display: none;}</style><div id=\"sk-container-id-34\" class=\"sk-top-container\"><div class=\"sk-text-repr-fallback\"><pre>KNeighborsClassifier(n_neighbors=80)</pre><b>In a Jupyter environment, please rerun this cell to show the HTML representation or trust the notebook. <br />On GitHub, the HTML representation is unable to render, please try loading this page with nbviewer.org.</b></div><div class=\"sk-container\" hidden><div class=\"sk-item\"><div class=\"sk-estimator sk-toggleable\"><input class=\"sk-toggleable__control sk-hidden--visually\" id=\"sk-estimator-id-34\" type=\"checkbox\" checked><label for=\"sk-estimator-id-34\" class=\"sk-toggleable__label sk-toggleable__label-arrow\">KNeighborsClassifier</label><div class=\"sk-toggleable__content\"><pre>KNeighborsClassifier(n_neighbors=80)</pre></div></div></div></div></div>"
            ]
          },
          "metadata": {},
          "execution_count": 140
        }
      ]
    },
    {
      "cell_type": "code",
      "source": [
        "#menentukan hasil prediksi dari x_test\n",
        "y_3_pred_minkowski = v_3_klasifikasi_minkowski.predict(x_3_test)\n",
        "y_3_pred_minkowski"
      ],
      "metadata": {
        "colab": {
          "base_uri": "https://localhost:8080/"
        },
        "id": "DmBzEJ-1Ywt6",
        "outputId": "bc5f00bd-6284-4d8e-fb42-b57f4115c1e6"
      },
      "execution_count": null,
      "outputs": [
        {
          "output_type": "execute_result",
          "data": {
            "text/plain": [
              "array(['F', 'F', 'M', 'I', 'I', 'I', 'F', 'I', 'M', 'F', 'I', 'I', 'M',\n",
              "       'M', 'M', 'F', 'F', 'I', 'M', 'I', 'M', 'F', 'I', 'M', 'I', 'M',\n",
              "       'M', 'M', 'I', 'M', 'M', 'F', 'I', 'M', 'F', 'I', 'I', 'I', 'I',\n",
              "       'I', 'F', 'F', 'F', 'I', 'M', 'M', 'F', 'M', 'M', 'I', 'M', 'F',\n",
              "       'I', 'M', 'I', 'M', 'I', 'I', 'M', 'M', 'I', 'I', 'F', 'M', 'I',\n",
              "       'F', 'F', 'I', 'M', 'I', 'I', 'I', 'M', 'F', 'F', 'M', 'I', 'F',\n",
              "       'F', 'I', 'I', 'I', 'F', 'I', 'M', 'M', 'I', 'M', 'I', 'F', 'I',\n",
              "       'I', 'I', 'M', 'M', 'I', 'I', 'I', 'F', 'I', 'M', 'I', 'I', 'I',\n",
              "       'F', 'M', 'M', 'M', 'M', 'F', 'F', 'M', 'I', 'I', 'M', 'I', 'F',\n",
              "       'M', 'I', 'I', 'M', 'I', 'M', 'I', 'M', 'F', 'I', 'F', 'I', 'M',\n",
              "       'M', 'I', 'I', 'I', 'M', 'I', 'M', 'I', 'M', 'I', 'F', 'I', 'I',\n",
              "       'I', 'M', 'M', 'I', 'F', 'F', 'I', 'I', 'I', 'F', 'I', 'M', 'M',\n",
              "       'M', 'M', 'M', 'I', 'F', 'M', 'I', 'M', 'F', 'I', 'I', 'F', 'F',\n",
              "       'M', 'M', 'F', 'M', 'M', 'F', 'I', 'M', 'F', 'I', 'F', 'I', 'F',\n",
              "       'F', 'I', 'I', 'I', 'I', 'M', 'I', 'I', 'M', 'M', 'M', 'M', 'I',\n",
              "       'I', 'F', 'M', 'M', 'I', 'M', 'I', 'I', 'I', 'I', 'M', 'F', 'M',\n",
              "       'F', 'I', 'F', 'F', 'F', 'M', 'I', 'M', 'I', 'I', 'M', 'F', 'I',\n",
              "       'F', 'M', 'I', 'I', 'I', 'M', 'M', 'I', 'M', 'F', 'M', 'M', 'I',\n",
              "       'F', 'M', 'I', 'F', 'M', 'M', 'M', 'M', 'M', 'I', 'M', 'M', 'I',\n",
              "       'M', 'F', 'I', 'M', 'I', 'I', 'I', 'I', 'I', 'I', 'I', 'I', 'I',\n",
              "       'M', 'I', 'M', 'F', 'I', 'I', 'M', 'F', 'I', 'I', 'I', 'F', 'I',\n",
              "       'M', 'I', 'M', 'I', 'I', 'I', 'M', 'M', 'M', 'I', 'I', 'M', 'M',\n",
              "       'F', 'M', 'I', 'I', 'I', 'F', 'M', 'F', 'I', 'F', 'M', 'I', 'I',\n",
              "       'F', 'M', 'I', 'M', 'M', 'M', 'M', 'I', 'M', 'M', 'I', 'M', 'I',\n",
              "       'I', 'F', 'I', 'I', 'I', 'M', 'I', 'I', 'M', 'I', 'M', 'I', 'M',\n",
              "       'F', 'I', 'F', 'M', 'M', 'I', 'I', 'I', 'F', 'I', 'I', 'F', 'I',\n",
              "       'I', 'M', 'M', 'F', 'M', 'I', 'F', 'I', 'I', 'I', 'I', 'F', 'I',\n",
              "       'I', 'M', 'I', 'I', 'F', 'M', 'M', 'I', 'F', 'I', 'F', 'M', 'I',\n",
              "       'M', 'I', 'M', 'M', 'M', 'F', 'F', 'I', 'M', 'M', 'M', 'I', 'M',\n",
              "       'F', 'M', 'I', 'I', 'M', 'M', 'I', 'M', 'F', 'M', 'I', 'M', 'I',\n",
              "       'M', 'I', 'F', 'F', 'F', 'M', 'M', 'I', 'M', 'M', 'I', 'M', 'M',\n",
              "       'M', 'I', 'I', 'M', 'F', 'F', 'F', 'I', 'M', 'M', 'F', 'M', 'F',\n",
              "       'I', 'M'], dtype=object)"
            ]
          },
          "metadata": {},
          "execution_count": 141
        }
      ]
    },
    {
      "cell_type": "markdown",
      "source": [
        "#### Cosine"
      ],
      "metadata": {
        "id": "T1uvTbeNS3AT"
      }
    },
    {
      "cell_type": "code",
      "source": [
        "#mengaktifkan fungsi klasifikasi\n",
        "v_3_klasifikasi_cosine = KNeighborsClassifier(n_neighbors=grid_search.best_params_['n_neighbors'], metric='cosine')\n",
        "\n",
        "#memasukkan data training pada fungsi klasifikasi\n",
        "v_3_klasifikasi_cosine.fit(x_3_train, y_3_train)"
      ],
      "metadata": {
        "colab": {
          "base_uri": "https://localhost:8080/",
          "height": 75
        },
        "id": "r0HZgruTTO8f",
        "outputId": "4387acce-43d8-48fc-f16b-82eba8ddb3d2"
      },
      "execution_count": null,
      "outputs": [
        {
          "output_type": "execute_result",
          "data": {
            "text/plain": [
              "KNeighborsClassifier(metric='cosine', n_neighbors=80)"
            ],
            "text/html": [
              "<style>#sk-container-id-35 {color: black;background-color: white;}#sk-container-id-35 pre{padding: 0;}#sk-container-id-35 div.sk-toggleable {background-color: white;}#sk-container-id-35 label.sk-toggleable__label {cursor: pointer;display: block;width: 100%;margin-bottom: 0;padding: 0.3em;box-sizing: border-box;text-align: center;}#sk-container-id-35 label.sk-toggleable__label-arrow:before {content: \"▸\";float: left;margin-right: 0.25em;color: #696969;}#sk-container-id-35 label.sk-toggleable__label-arrow:hover:before {color: black;}#sk-container-id-35 div.sk-estimator:hover label.sk-toggleable__label-arrow:before {color: black;}#sk-container-id-35 div.sk-toggleable__content {max-height: 0;max-width: 0;overflow: hidden;text-align: left;background-color: #f0f8ff;}#sk-container-id-35 div.sk-toggleable__content pre {margin: 0.2em;color: black;border-radius: 0.25em;background-color: #f0f8ff;}#sk-container-id-35 input.sk-toggleable__control:checked~div.sk-toggleable__content {max-height: 200px;max-width: 100%;overflow: auto;}#sk-container-id-35 input.sk-toggleable__control:checked~label.sk-toggleable__label-arrow:before {content: \"▾\";}#sk-container-id-35 div.sk-estimator input.sk-toggleable__control:checked~label.sk-toggleable__label {background-color: #d4ebff;}#sk-container-id-35 div.sk-label input.sk-toggleable__control:checked~label.sk-toggleable__label {background-color: #d4ebff;}#sk-container-id-35 input.sk-hidden--visually {border: 0;clip: rect(1px 1px 1px 1px);clip: rect(1px, 1px, 1px, 1px);height: 1px;margin: -1px;overflow: hidden;padding: 0;position: absolute;width: 1px;}#sk-container-id-35 div.sk-estimator {font-family: monospace;background-color: #f0f8ff;border: 1px dotted black;border-radius: 0.25em;box-sizing: border-box;margin-bottom: 0.5em;}#sk-container-id-35 div.sk-estimator:hover {background-color: #d4ebff;}#sk-container-id-35 div.sk-parallel-item::after {content: \"\";width: 100%;border-bottom: 1px solid gray;flex-grow: 1;}#sk-container-id-35 div.sk-label:hover label.sk-toggleable__label {background-color: #d4ebff;}#sk-container-id-35 div.sk-serial::before {content: \"\";position: absolute;border-left: 1px solid gray;box-sizing: border-box;top: 0;bottom: 0;left: 50%;z-index: 0;}#sk-container-id-35 div.sk-serial {display: flex;flex-direction: column;align-items: center;background-color: white;padding-right: 0.2em;padding-left: 0.2em;position: relative;}#sk-container-id-35 div.sk-item {position: relative;z-index: 1;}#sk-container-id-35 div.sk-parallel {display: flex;align-items: stretch;justify-content: center;background-color: white;position: relative;}#sk-container-id-35 div.sk-item::before, #sk-container-id-35 div.sk-parallel-item::before {content: \"\";position: absolute;border-left: 1px solid gray;box-sizing: border-box;top: 0;bottom: 0;left: 50%;z-index: -1;}#sk-container-id-35 div.sk-parallel-item {display: flex;flex-direction: column;z-index: 1;position: relative;background-color: white;}#sk-container-id-35 div.sk-parallel-item:first-child::after {align-self: flex-end;width: 50%;}#sk-container-id-35 div.sk-parallel-item:last-child::after {align-self: flex-start;width: 50%;}#sk-container-id-35 div.sk-parallel-item:only-child::after {width: 0;}#sk-container-id-35 div.sk-dashed-wrapped {border: 1px dashed gray;margin: 0 0.4em 0.5em 0.4em;box-sizing: border-box;padding-bottom: 0.4em;background-color: white;}#sk-container-id-35 div.sk-label label {font-family: monospace;font-weight: bold;display: inline-block;line-height: 1.2em;}#sk-container-id-35 div.sk-label-container {text-align: center;}#sk-container-id-35 div.sk-container {/* jupyter's `normalize.less` sets `[hidden] { display: none; }` but bootstrap.min.css set `[hidden] { display: none !important; }` so we also need the `!important` here to be able to override the default hidden behavior on the sphinx rendered scikit-learn.org. See: https://github.com/scikit-learn/scikit-learn/issues/21755 */display: inline-block !important;position: relative;}#sk-container-id-35 div.sk-text-repr-fallback {display: none;}</style><div id=\"sk-container-id-35\" class=\"sk-top-container\"><div class=\"sk-text-repr-fallback\"><pre>KNeighborsClassifier(metric=&#x27;cosine&#x27;, n_neighbors=80)</pre><b>In a Jupyter environment, please rerun this cell to show the HTML representation or trust the notebook. <br />On GitHub, the HTML representation is unable to render, please try loading this page with nbviewer.org.</b></div><div class=\"sk-container\" hidden><div class=\"sk-item\"><div class=\"sk-estimator sk-toggleable\"><input class=\"sk-toggleable__control sk-hidden--visually\" id=\"sk-estimator-id-35\" type=\"checkbox\" checked><label for=\"sk-estimator-id-35\" class=\"sk-toggleable__label sk-toggleable__label-arrow\">KNeighborsClassifier</label><div class=\"sk-toggleable__content\"><pre>KNeighborsClassifier(metric=&#x27;cosine&#x27;, n_neighbors=80)</pre></div></div></div></div></div>"
            ]
          },
          "metadata": {},
          "execution_count": 142
        }
      ]
    },
    {
      "cell_type": "code",
      "source": [
        "#menentukan hasil prediksi dari x_test\n",
        "y_3_pred_cosine = v_3_klasifikasi_cosine.predict(x_3_test)\n",
        "y_3_pred_cosine"
      ],
      "metadata": {
        "colab": {
          "base_uri": "https://localhost:8080/"
        },
        "id": "tFpgQJBnWCNk",
        "outputId": "ddbd8368-092b-4805-856d-34dadcc166b4"
      },
      "execution_count": null,
      "outputs": [
        {
          "output_type": "execute_result",
          "data": {
            "text/plain": [
              "array(['F', 'F', 'M', 'M', 'I', 'I', 'F', 'I', 'M', 'F', 'I', 'I', 'M',\n",
              "       'F', 'M', 'F', 'F', 'I', 'F', 'F', 'M', 'F', 'I', 'F', 'I', 'F',\n",
              "       'M', 'F', 'I', 'F', 'M', 'F', 'I', 'F', 'M', 'I', 'I', 'I', 'I',\n",
              "       'I', 'M', 'F', 'M', 'I', 'I', 'M', 'M', 'F', 'M', 'I', 'M', 'F',\n",
              "       'I', 'I', 'I', 'F', 'I', 'I', 'F', 'M', 'I', 'I', 'F', 'M', 'I',\n",
              "       'F', 'F', 'M', 'F', 'I', 'I', 'I', 'F', 'F', 'F', 'F', 'I', 'M',\n",
              "       'F', 'I', 'I', 'I', 'F', 'I', 'M', 'M', 'I', 'M', 'I', 'F', 'I',\n",
              "       'I', 'I', 'M', 'F', 'I', 'I', 'I', 'F', 'I', 'M', 'I', 'I', 'I',\n",
              "       'M', 'M', 'F', 'F', 'M', 'F', 'F', 'M', 'I', 'I', 'F', 'I', 'M',\n",
              "       'M', 'I', 'I', 'I', 'I', 'M', 'I', 'F', 'F', 'M', 'F', 'I', 'F',\n",
              "       'F', 'I', 'I', 'I', 'F', 'I', 'M', 'I', 'M', 'F', 'M', 'I', 'I',\n",
              "       'I', 'F', 'F', 'F', 'F', 'F', 'I', 'I', 'I', 'M', 'F', 'M', 'F',\n",
              "       'M', 'M', 'M', 'I', 'M', 'M', 'I', 'F', 'F', 'I', 'I', 'M', 'F',\n",
              "       'F', 'M', 'M', 'M', 'M', 'F', 'F', 'F', 'F', 'I', 'M', 'I', 'F',\n",
              "       'M', 'I', 'I', 'I', 'I', 'M', 'I', 'I', 'F', 'F', 'M', 'M', 'I',\n",
              "       'I', 'M', 'M', 'M', 'I', 'M', 'I', 'I', 'I', 'I', 'M', 'M', 'F',\n",
              "       'F', 'I', 'M', 'M', 'F', 'M', 'I', 'M', 'I', 'F', 'M', 'F', 'I',\n",
              "       'M', 'M', 'I', 'M', 'I', 'M', 'F', 'I', 'M', 'F', 'M', 'F', 'F',\n",
              "       'F', 'M', 'I', 'F', 'M', 'M', 'M', 'F', 'M', 'I', 'F', 'F', 'I',\n",
              "       'M', 'F', 'I', 'F', 'I', 'I', 'I', 'I', 'I', 'I', 'I', 'I', 'F',\n",
              "       'M', 'I', 'F', 'F', 'I', 'I', 'M', 'M', 'I', 'I', 'I', 'M', 'I',\n",
              "       'F', 'I', 'F', 'I', 'M', 'I', 'F', 'M', 'M', 'I', 'I', 'F', 'M',\n",
              "       'F', 'M', 'I', 'I', 'I', 'F', 'M', 'F', 'I', 'M', 'F', 'I', 'M',\n",
              "       'F', 'M', 'I', 'M', 'F', 'M', 'F', 'I', 'F', 'I', 'I', 'M', 'I',\n",
              "       'I', 'M', 'I', 'I', 'F', 'M', 'I', 'I', 'M', 'I', 'F', 'I', 'F',\n",
              "       'M', 'I', 'M', 'M', 'M', 'I', 'I', 'I', 'M', 'M', 'I', 'M', 'I',\n",
              "       'I', 'F', 'M', 'F', 'F', 'I', 'F', 'I', 'I', 'I', 'I', 'F', 'I',\n",
              "       'F', 'M', 'I', 'I', 'M', 'F', 'M', 'I', 'F', 'I', 'M', 'M', 'F',\n",
              "       'I', 'I', 'F', 'M', 'F', 'F', 'F', 'I', 'F', 'M', 'F', 'I', 'M',\n",
              "       'F', 'M', 'I', 'M', 'F', 'M', 'I', 'F', 'F', 'M', 'I', 'M', 'I',\n",
              "       'M', 'I', 'F', 'M', 'F', 'M', 'F', 'I', 'M', 'I', 'I', 'M', 'F',\n",
              "       'I', 'I', 'I', 'F', 'F', 'M', 'F', 'I', 'M', 'M', 'M', 'M', 'M',\n",
              "       'I', 'M'], dtype=object)"
            ]
          },
          "metadata": {},
          "execution_count": 143
        }
      ]
    },
    {
      "cell_type": "markdown",
      "source": [
        "#### Euclidean"
      ],
      "metadata": {
        "id": "Y270I4ztS3e9"
      }
    },
    {
      "cell_type": "code",
      "source": [
        "#mengaktifkan fungsi klasifikasi\n",
        "v_3_klasifikasi_euclidean = KNeighborsClassifier(n_neighbors=grid_search.best_params_['n_neighbors'], metric='euclidean')\n",
        "\n",
        "#memasukkan data training pada fungsi klasifikasi\n",
        "v_3_klasifikasi_euclidean.fit(x_3_train, y_3_train)"
      ],
      "metadata": {
        "colab": {
          "base_uri": "https://localhost:8080/",
          "height": 75
        },
        "id": "m4w20VDYTP6p",
        "outputId": "f536185f-a81d-4daf-a400-076ef82ec756"
      },
      "execution_count": null,
      "outputs": [
        {
          "output_type": "execute_result",
          "data": {
            "text/plain": [
              "KNeighborsClassifier(metric='euclidean', n_neighbors=80)"
            ],
            "text/html": [
              "<style>#sk-container-id-36 {color: black;background-color: white;}#sk-container-id-36 pre{padding: 0;}#sk-container-id-36 div.sk-toggleable {background-color: white;}#sk-container-id-36 label.sk-toggleable__label {cursor: pointer;display: block;width: 100%;margin-bottom: 0;padding: 0.3em;box-sizing: border-box;text-align: center;}#sk-container-id-36 label.sk-toggleable__label-arrow:before {content: \"▸\";float: left;margin-right: 0.25em;color: #696969;}#sk-container-id-36 label.sk-toggleable__label-arrow:hover:before {color: black;}#sk-container-id-36 div.sk-estimator:hover label.sk-toggleable__label-arrow:before {color: black;}#sk-container-id-36 div.sk-toggleable__content {max-height: 0;max-width: 0;overflow: hidden;text-align: left;background-color: #f0f8ff;}#sk-container-id-36 div.sk-toggleable__content pre {margin: 0.2em;color: black;border-radius: 0.25em;background-color: #f0f8ff;}#sk-container-id-36 input.sk-toggleable__control:checked~div.sk-toggleable__content {max-height: 200px;max-width: 100%;overflow: auto;}#sk-container-id-36 input.sk-toggleable__control:checked~label.sk-toggleable__label-arrow:before {content: \"▾\";}#sk-container-id-36 div.sk-estimator input.sk-toggleable__control:checked~label.sk-toggleable__label {background-color: #d4ebff;}#sk-container-id-36 div.sk-label input.sk-toggleable__control:checked~label.sk-toggleable__label {background-color: #d4ebff;}#sk-container-id-36 input.sk-hidden--visually {border: 0;clip: rect(1px 1px 1px 1px);clip: rect(1px, 1px, 1px, 1px);height: 1px;margin: -1px;overflow: hidden;padding: 0;position: absolute;width: 1px;}#sk-container-id-36 div.sk-estimator {font-family: monospace;background-color: #f0f8ff;border: 1px dotted black;border-radius: 0.25em;box-sizing: border-box;margin-bottom: 0.5em;}#sk-container-id-36 div.sk-estimator:hover {background-color: #d4ebff;}#sk-container-id-36 div.sk-parallel-item::after {content: \"\";width: 100%;border-bottom: 1px solid gray;flex-grow: 1;}#sk-container-id-36 div.sk-label:hover label.sk-toggleable__label {background-color: #d4ebff;}#sk-container-id-36 div.sk-serial::before {content: \"\";position: absolute;border-left: 1px solid gray;box-sizing: border-box;top: 0;bottom: 0;left: 50%;z-index: 0;}#sk-container-id-36 div.sk-serial {display: flex;flex-direction: column;align-items: center;background-color: white;padding-right: 0.2em;padding-left: 0.2em;position: relative;}#sk-container-id-36 div.sk-item {position: relative;z-index: 1;}#sk-container-id-36 div.sk-parallel {display: flex;align-items: stretch;justify-content: center;background-color: white;position: relative;}#sk-container-id-36 div.sk-item::before, #sk-container-id-36 div.sk-parallel-item::before {content: \"\";position: absolute;border-left: 1px solid gray;box-sizing: border-box;top: 0;bottom: 0;left: 50%;z-index: -1;}#sk-container-id-36 div.sk-parallel-item {display: flex;flex-direction: column;z-index: 1;position: relative;background-color: white;}#sk-container-id-36 div.sk-parallel-item:first-child::after {align-self: flex-end;width: 50%;}#sk-container-id-36 div.sk-parallel-item:last-child::after {align-self: flex-start;width: 50%;}#sk-container-id-36 div.sk-parallel-item:only-child::after {width: 0;}#sk-container-id-36 div.sk-dashed-wrapped {border: 1px dashed gray;margin: 0 0.4em 0.5em 0.4em;box-sizing: border-box;padding-bottom: 0.4em;background-color: white;}#sk-container-id-36 div.sk-label label {font-family: monospace;font-weight: bold;display: inline-block;line-height: 1.2em;}#sk-container-id-36 div.sk-label-container {text-align: center;}#sk-container-id-36 div.sk-container {/* jupyter's `normalize.less` sets `[hidden] { display: none; }` but bootstrap.min.css set `[hidden] { display: none !important; }` so we also need the `!important` here to be able to override the default hidden behavior on the sphinx rendered scikit-learn.org. See: https://github.com/scikit-learn/scikit-learn/issues/21755 */display: inline-block !important;position: relative;}#sk-container-id-36 div.sk-text-repr-fallback {display: none;}</style><div id=\"sk-container-id-36\" class=\"sk-top-container\"><div class=\"sk-text-repr-fallback\"><pre>KNeighborsClassifier(metric=&#x27;euclidean&#x27;, n_neighbors=80)</pre><b>In a Jupyter environment, please rerun this cell to show the HTML representation or trust the notebook. <br />On GitHub, the HTML representation is unable to render, please try loading this page with nbviewer.org.</b></div><div class=\"sk-container\" hidden><div class=\"sk-item\"><div class=\"sk-estimator sk-toggleable\"><input class=\"sk-toggleable__control sk-hidden--visually\" id=\"sk-estimator-id-36\" type=\"checkbox\" checked><label for=\"sk-estimator-id-36\" class=\"sk-toggleable__label sk-toggleable__label-arrow\">KNeighborsClassifier</label><div class=\"sk-toggleable__content\"><pre>KNeighborsClassifier(metric=&#x27;euclidean&#x27;, n_neighbors=80)</pre></div></div></div></div></div>"
            ]
          },
          "metadata": {},
          "execution_count": 144
        }
      ]
    },
    {
      "cell_type": "code",
      "source": [
        "#menentukan hasil prediksi dari x_test\n",
        "y_3_pred_euclidean = v_3_klasifikasi_euclidean.predict(x_3_test)\n",
        "y_3_pred_euclidean"
      ],
      "metadata": {
        "colab": {
          "base_uri": "https://localhost:8080/"
        },
        "id": "q5EODXhKWLR6",
        "outputId": "d70be9a7-3cbb-43aa-e7cf-283fc173f9db"
      },
      "execution_count": null,
      "outputs": [
        {
          "output_type": "execute_result",
          "data": {
            "text/plain": [
              "array(['F', 'F', 'M', 'I', 'I', 'I', 'F', 'I', 'M', 'F', 'I', 'I', 'M',\n",
              "       'M', 'M', 'F', 'F', 'I', 'M', 'I', 'M', 'F', 'I', 'M', 'I', 'M',\n",
              "       'M', 'M', 'I', 'M', 'M', 'F', 'I', 'M', 'F', 'I', 'I', 'I', 'I',\n",
              "       'I', 'F', 'F', 'F', 'I', 'M', 'M', 'F', 'M', 'M', 'I', 'M', 'F',\n",
              "       'I', 'M', 'I', 'M', 'I', 'I', 'M', 'M', 'I', 'I', 'F', 'M', 'I',\n",
              "       'F', 'F', 'I', 'M', 'I', 'I', 'I', 'M', 'F', 'F', 'M', 'I', 'F',\n",
              "       'F', 'I', 'I', 'I', 'F', 'I', 'M', 'M', 'I', 'M', 'I', 'F', 'I',\n",
              "       'I', 'I', 'M', 'M', 'I', 'I', 'I', 'F', 'I', 'M', 'I', 'I', 'I',\n",
              "       'F', 'M', 'M', 'M', 'M', 'F', 'F', 'M', 'I', 'I', 'M', 'I', 'F',\n",
              "       'M', 'I', 'I', 'M', 'I', 'M', 'I', 'M', 'F', 'I', 'F', 'I', 'M',\n",
              "       'M', 'I', 'I', 'I', 'M', 'I', 'M', 'I', 'M', 'I', 'F', 'I', 'I',\n",
              "       'I', 'M', 'M', 'I', 'F', 'F', 'I', 'I', 'I', 'F', 'I', 'M', 'M',\n",
              "       'M', 'M', 'M', 'I', 'F', 'M', 'I', 'M', 'F', 'I', 'I', 'F', 'F',\n",
              "       'M', 'M', 'F', 'M', 'M', 'F', 'I', 'M', 'F', 'I', 'F', 'I', 'F',\n",
              "       'F', 'I', 'I', 'I', 'I', 'M', 'I', 'I', 'M', 'M', 'M', 'M', 'I',\n",
              "       'I', 'F', 'M', 'M', 'I', 'M', 'I', 'I', 'I', 'I', 'M', 'F', 'M',\n",
              "       'F', 'I', 'F', 'F', 'F', 'M', 'I', 'M', 'I', 'I', 'M', 'F', 'I',\n",
              "       'F', 'M', 'I', 'I', 'I', 'M', 'M', 'I', 'M', 'F', 'M', 'M', 'I',\n",
              "       'F', 'M', 'I', 'F', 'M', 'M', 'M', 'M', 'M', 'I', 'M', 'M', 'I',\n",
              "       'M', 'F', 'I', 'M', 'I', 'I', 'I', 'I', 'I', 'I', 'I', 'I', 'I',\n",
              "       'M', 'I', 'M', 'F', 'I', 'I', 'M', 'F', 'I', 'I', 'I', 'F', 'I',\n",
              "       'M', 'I', 'M', 'I', 'I', 'I', 'M', 'M', 'M', 'I', 'I', 'M', 'M',\n",
              "       'F', 'M', 'I', 'I', 'I', 'F', 'M', 'F', 'I', 'F', 'M', 'I', 'I',\n",
              "       'F', 'M', 'I', 'M', 'M', 'M', 'M', 'I', 'M', 'M', 'I', 'M', 'I',\n",
              "       'I', 'F', 'I', 'I', 'I', 'M', 'I', 'I', 'M', 'I', 'M', 'I', 'M',\n",
              "       'F', 'I', 'F', 'M', 'M', 'I', 'I', 'I', 'F', 'I', 'I', 'F', 'I',\n",
              "       'I', 'M', 'M', 'F', 'M', 'I', 'F', 'I', 'I', 'I', 'I', 'F', 'I',\n",
              "       'I', 'M', 'I', 'I', 'F', 'M', 'M', 'I', 'F', 'I', 'F', 'M', 'I',\n",
              "       'M', 'I', 'M', 'M', 'M', 'F', 'F', 'I', 'M', 'M', 'M', 'I', 'M',\n",
              "       'F', 'M', 'I', 'I', 'M', 'M', 'I', 'M', 'F', 'M', 'I', 'M', 'I',\n",
              "       'M', 'I', 'F', 'F', 'F', 'M', 'M', 'I', 'M', 'M', 'I', 'M', 'M',\n",
              "       'M', 'I', 'I', 'M', 'F', 'F', 'F', 'I', 'M', 'M', 'F', 'M', 'F',\n",
              "       'I', 'M'], dtype=object)"
            ]
          },
          "metadata": {},
          "execution_count": 146
        }
      ]
    },
    {
      "cell_type": "markdown",
      "source": [
        "#### Manhattan\n",
        "\n"
      ],
      "metadata": {
        "id": "tzpNc9aGS4TH"
      }
    },
    {
      "cell_type": "code",
      "source": [
        "#mengaktifkan fungsi klasifikasi\n",
        "v_3_klasifikasi_manhattan = KNeighborsClassifier(n_neighbors=grid_search.best_params_['n_neighbors'], metric='manhattan')\n",
        "\n",
        "#memasukkan data training pada fungsi klasifikasi\n",
        "v_3_klasifikasi_manhattan.fit(x_3_train, y_3_train)"
      ],
      "metadata": {
        "colab": {
          "base_uri": "https://localhost:8080/",
          "height": 75
        },
        "id": "MRyi8DWsSjQE",
        "outputId": "3cf8e5ee-dff0-46b7-f1f2-e9fb28982ead"
      },
      "execution_count": null,
      "outputs": [
        {
          "output_type": "execute_result",
          "data": {
            "text/plain": [
              "KNeighborsClassifier(metric='manhattan', n_neighbors=80)"
            ],
            "text/html": [
              "<style>#sk-container-id-37 {color: black;background-color: white;}#sk-container-id-37 pre{padding: 0;}#sk-container-id-37 div.sk-toggleable {background-color: white;}#sk-container-id-37 label.sk-toggleable__label {cursor: pointer;display: block;width: 100%;margin-bottom: 0;padding: 0.3em;box-sizing: border-box;text-align: center;}#sk-container-id-37 label.sk-toggleable__label-arrow:before {content: \"▸\";float: left;margin-right: 0.25em;color: #696969;}#sk-container-id-37 label.sk-toggleable__label-arrow:hover:before {color: black;}#sk-container-id-37 div.sk-estimator:hover label.sk-toggleable__label-arrow:before {color: black;}#sk-container-id-37 div.sk-toggleable__content {max-height: 0;max-width: 0;overflow: hidden;text-align: left;background-color: #f0f8ff;}#sk-container-id-37 div.sk-toggleable__content pre {margin: 0.2em;color: black;border-radius: 0.25em;background-color: #f0f8ff;}#sk-container-id-37 input.sk-toggleable__control:checked~div.sk-toggleable__content {max-height: 200px;max-width: 100%;overflow: auto;}#sk-container-id-37 input.sk-toggleable__control:checked~label.sk-toggleable__label-arrow:before {content: \"▾\";}#sk-container-id-37 div.sk-estimator input.sk-toggleable__control:checked~label.sk-toggleable__label {background-color: #d4ebff;}#sk-container-id-37 div.sk-label input.sk-toggleable__control:checked~label.sk-toggleable__label {background-color: #d4ebff;}#sk-container-id-37 input.sk-hidden--visually {border: 0;clip: rect(1px 1px 1px 1px);clip: rect(1px, 1px, 1px, 1px);height: 1px;margin: -1px;overflow: hidden;padding: 0;position: absolute;width: 1px;}#sk-container-id-37 div.sk-estimator {font-family: monospace;background-color: #f0f8ff;border: 1px dotted black;border-radius: 0.25em;box-sizing: border-box;margin-bottom: 0.5em;}#sk-container-id-37 div.sk-estimator:hover {background-color: #d4ebff;}#sk-container-id-37 div.sk-parallel-item::after {content: \"\";width: 100%;border-bottom: 1px solid gray;flex-grow: 1;}#sk-container-id-37 div.sk-label:hover label.sk-toggleable__label {background-color: #d4ebff;}#sk-container-id-37 div.sk-serial::before {content: \"\";position: absolute;border-left: 1px solid gray;box-sizing: border-box;top: 0;bottom: 0;left: 50%;z-index: 0;}#sk-container-id-37 div.sk-serial {display: flex;flex-direction: column;align-items: center;background-color: white;padding-right: 0.2em;padding-left: 0.2em;position: relative;}#sk-container-id-37 div.sk-item {position: relative;z-index: 1;}#sk-container-id-37 div.sk-parallel {display: flex;align-items: stretch;justify-content: center;background-color: white;position: relative;}#sk-container-id-37 div.sk-item::before, #sk-container-id-37 div.sk-parallel-item::before {content: \"\";position: absolute;border-left: 1px solid gray;box-sizing: border-box;top: 0;bottom: 0;left: 50%;z-index: -1;}#sk-container-id-37 div.sk-parallel-item {display: flex;flex-direction: column;z-index: 1;position: relative;background-color: white;}#sk-container-id-37 div.sk-parallel-item:first-child::after {align-self: flex-end;width: 50%;}#sk-container-id-37 div.sk-parallel-item:last-child::after {align-self: flex-start;width: 50%;}#sk-container-id-37 div.sk-parallel-item:only-child::after {width: 0;}#sk-container-id-37 div.sk-dashed-wrapped {border: 1px dashed gray;margin: 0 0.4em 0.5em 0.4em;box-sizing: border-box;padding-bottom: 0.4em;background-color: white;}#sk-container-id-37 div.sk-label label {font-family: monospace;font-weight: bold;display: inline-block;line-height: 1.2em;}#sk-container-id-37 div.sk-label-container {text-align: center;}#sk-container-id-37 div.sk-container {/* jupyter's `normalize.less` sets `[hidden] { display: none; }` but bootstrap.min.css set `[hidden] { display: none !important; }` so we also need the `!important` here to be able to override the default hidden behavior on the sphinx rendered scikit-learn.org. See: https://github.com/scikit-learn/scikit-learn/issues/21755 */display: inline-block !important;position: relative;}#sk-container-id-37 div.sk-text-repr-fallback {display: none;}</style><div id=\"sk-container-id-37\" class=\"sk-top-container\"><div class=\"sk-text-repr-fallback\"><pre>KNeighborsClassifier(metric=&#x27;manhattan&#x27;, n_neighbors=80)</pre><b>In a Jupyter environment, please rerun this cell to show the HTML representation or trust the notebook. <br />On GitHub, the HTML representation is unable to render, please try loading this page with nbviewer.org.</b></div><div class=\"sk-container\" hidden><div class=\"sk-item\"><div class=\"sk-estimator sk-toggleable\"><input class=\"sk-toggleable__control sk-hidden--visually\" id=\"sk-estimator-id-37\" type=\"checkbox\" checked><label for=\"sk-estimator-id-37\" class=\"sk-toggleable__label sk-toggleable__label-arrow\">KNeighborsClassifier</label><div class=\"sk-toggleable__content\"><pre>KNeighborsClassifier(metric=&#x27;manhattan&#x27;, n_neighbors=80)</pre></div></div></div></div></div>"
            ]
          },
          "metadata": {},
          "execution_count": 147
        }
      ]
    },
    {
      "cell_type": "code",
      "source": [
        "#menentukan hasil prediksi dari x_test\n",
        "y_3_pred_manhattan = v_3_klasifikasi_manhattan.predict(x_3_test)\n",
        "y_3_pred_manhattan"
      ],
      "metadata": {
        "colab": {
          "base_uri": "https://localhost:8080/"
        },
        "id": "AMDnWYeJWVMD",
        "outputId": "9b21fcbe-faf5-42e2-c1e3-43253009dbe6"
      },
      "execution_count": null,
      "outputs": [
        {
          "output_type": "execute_result",
          "data": {
            "text/plain": [
              "array(['F', 'F', 'M', 'I', 'I', 'I', 'F', 'I', 'M', 'M', 'I', 'I', 'M',\n",
              "       'F', 'M', 'F', 'F', 'I', 'M', 'I', 'M', 'M', 'I', 'M', 'I', 'M',\n",
              "       'F', 'M', 'I', 'M', 'M', 'M', 'I', 'F', 'F', 'I', 'I', 'I', 'I',\n",
              "       'I', 'F', 'F', 'F', 'M', 'M', 'M', 'M', 'F', 'M', 'I', 'M', 'F',\n",
              "       'I', 'M', 'I', 'M', 'I', 'F', 'F', 'M', 'I', 'I', 'F', 'M', 'I',\n",
              "       'F', 'F', 'I', 'M', 'I', 'I', 'I', 'M', 'F', 'F', 'M', 'I', 'F',\n",
              "       'F', 'I', 'I', 'I', 'F', 'I', 'M', 'M', 'I', 'M', 'I', 'F', 'I',\n",
              "       'I', 'I', 'I', 'M', 'I', 'I', 'I', 'F', 'I', 'M', 'I', 'I', 'I',\n",
              "       'F', 'F', 'M', 'M', 'M', 'F', 'F', 'M', 'I', 'I', 'F', 'I', 'F',\n",
              "       'M', 'I', 'I', 'I', 'I', 'M', 'I', 'M', 'F', 'I', 'F', 'I', 'M',\n",
              "       'M', 'I', 'I', 'I', 'M', 'I', 'M', 'I', 'M', 'I', 'F', 'I', 'I',\n",
              "       'I', 'M', 'M', 'I', 'F', 'F', 'I', 'I', 'I', 'F', 'I', 'M', 'M',\n",
              "       'M', 'M', 'F', 'I', 'F', 'M', 'I', 'M', 'F', 'I', 'I', 'M', 'F',\n",
              "       'M', 'M', 'F', 'M', 'M', 'I', 'I', 'M', 'M', 'I', 'F', 'F', 'F',\n",
              "       'F', 'I', 'I', 'I', 'I', 'M', 'I', 'I', 'M', 'M', 'M', 'M', 'I',\n",
              "       'I', 'F', 'M', 'M', 'I', 'M', 'F', 'I', 'I', 'I', 'M', 'I', 'M',\n",
              "       'M', 'I', 'F', 'F', 'M', 'M', 'I', 'M', 'I', 'I', 'M', 'M', 'I',\n",
              "       'F', 'M', 'I', 'I', 'I', 'M', 'M', 'I', 'M', 'F', 'M', 'M', 'M',\n",
              "       'F', 'M', 'I', 'F', 'F', 'M', 'M', 'M', 'M', 'I', 'M', 'F', 'I',\n",
              "       'M', 'F', 'I', 'M', 'I', 'I', 'I', 'I', 'I', 'M', 'I', 'I', 'I',\n",
              "       'M', 'I', 'M', 'F', 'I', 'I', 'M', 'F', 'I', 'I', 'I', 'F', 'I',\n",
              "       'M', 'I', 'M', 'I', 'I', 'I', 'M', 'M', 'M', 'I', 'I', 'M', 'M',\n",
              "       'F', 'M', 'I', 'I', 'I', 'F', 'M', 'F', 'M', 'F', 'M', 'I', 'I',\n",
              "       'F', 'M', 'I', 'M', 'M', 'M', 'F', 'I', 'M', 'M', 'I', 'F', 'I',\n",
              "       'I', 'F', 'M', 'I', 'I', 'M', 'I', 'I', 'M', 'I', 'M', 'I', 'M',\n",
              "       'F', 'I', 'F', 'M', 'M', 'I', 'I', 'I', 'F', 'I', 'I', 'F', 'I',\n",
              "       'I', 'M', 'M', 'F', 'M', 'I', 'F', 'I', 'I', 'I', 'I', 'F', 'I',\n",
              "       'I', 'F', 'I', 'I', 'F', 'M', 'M', 'I', 'F', 'I', 'M', 'M', 'I',\n",
              "       'I', 'I', 'M', 'M', 'F', 'F', 'F', 'I', 'F', 'M', 'F', 'I', 'M',\n",
              "       'F', 'M', 'I', 'M', 'M', 'M', 'I', 'M', 'F', 'M', 'I', 'M', 'I',\n",
              "       'M', 'I', 'F', 'F', 'I', 'F', 'M', 'I', 'M', 'M', 'I', 'M', 'M',\n",
              "       'M', 'I', 'I', 'M', 'F', 'F', 'F', 'I', 'M', 'M', 'M', 'M', 'F',\n",
              "       'I', 'M'], dtype=object)"
            ]
          },
          "metadata": {},
          "execution_count": 148
        }
      ]
    },
    {
      "cell_type": "markdown",
      "source": [
        "# Evaluasi Model kNN\n",
        "\n",
        "\n",
        "*   Confusion Matrix : menghitung jumlah kelas yang berhasil diprediksi dengan akurat dan tidak akurat\n",
        "*   Accuracy : menghitung akurasi model kNN\n",
        "*   Precision : menghitung ketepatan klasifikasi/rasio prediksi TP dengan keseluruhan data yang diprediksi TP\n",
        "*   Recall : menghitung kemampuan model dalam memprediksi seluruh kelas secara akurat/rasio prediksi TP dengan keseluruhan data TP\n",
        "*   F1 Score : rasio rata-rata presisi dan recall yang dibobotkan\n",
        "\n"
      ],
      "metadata": {
        "id": "k4M_ostQTaPS"
      }
    },
    {
      "cell_type": "markdown",
      "source": [
        "## Classification Report"
      ],
      "metadata": {
        "id": "q9hpKcmDTalP"
      }
    },
    {
      "cell_type": "markdown",
      "source": [
        "**2 PARAMETER**"
      ],
      "metadata": {
        "id": "zXLwY-mhnQ17"
      }
    },
    {
      "cell_type": "code",
      "source": [
        "# Laporan klasifikasi untuk masing-masing model\n",
        "v_2_report_minkowski = classification_report(y_2_test, y_2_pred_minkowski)\n",
        "v_2_report_cosine = classification_report(y_2_test, y_2_pred_cosine)\n",
        "v_2_report_euclidean = classification_report(y_2_test, y_2_pred_euclidean)\n",
        "v_2_report_manhattan = classification_report(y_2_test, y_2_pred_manhattan)\n",
        "\n",
        "# Menampilkan laporan klasifikasi untuk masing-masing model pada 2 parameter\n",
        "print(\"2 PARAMETER\")\n",
        "print(\"\")\n",
        "\n",
        "print(\"Model pertama : Default Distance (Minkowski)\")\n",
        "print(v_2_report_minkowski)\n",
        "\n",
        "print(\"Model kedua : Cosine Distance\")\n",
        "print(v_2_report_cosine)\n",
        "\n",
        "print(\"Model ketiga : Euclidean Distance\")\n",
        "print(v_2_report_euclidean)\n",
        "\n",
        "print(\"Model keempat : Manhattan Distance\")\n",
        "print(v_2_report_manhattan)"
      ],
      "metadata": {
        "colab": {
          "base_uri": "https://localhost:8080/"
        },
        "id": "lBL31l7BSjVI",
        "outputId": "7b1c432e-674d-4437-f1f7-c99c7cf5da6f"
      },
      "execution_count": null,
      "outputs": [
        {
          "output_type": "stream",
          "name": "stdout",
          "text": [
            "2 PARAMETER\n",
            "\n",
            "Model pertama : Default Distance (Minkowski)\n",
            "              precision    recall  f1-score   support\n",
            "\n",
            "           F       0.44      0.30      0.36       134\n",
            "           I       0.60      0.80      0.68       128\n",
            "           M       0.45      0.45      0.45       156\n",
            "\n",
            "    accuracy                           0.51       418\n",
            "   macro avg       0.49      0.51      0.50       418\n",
            "weighted avg       0.49      0.51      0.49       418\n",
            "\n",
            "Model kedua : Cosine Distance\n",
            "              precision    recall  f1-score   support\n",
            "\n",
            "           F       0.35      0.21      0.26       134\n",
            "           I       0.58      0.85      0.69       128\n",
            "           M       0.40      0.39      0.40       156\n",
            "\n",
            "    accuracy                           0.47       418\n",
            "   macro avg       0.45      0.48      0.45       418\n",
            "weighted avg       0.44      0.47      0.44       418\n",
            "\n",
            "Model ketiga : Euclidean Distance\n",
            "              precision    recall  f1-score   support\n",
            "\n",
            "           F       0.44      0.30      0.36       134\n",
            "           I       0.60      0.80      0.68       128\n",
            "           M       0.45      0.45      0.45       156\n",
            "\n",
            "    accuracy                           0.51       418\n",
            "   macro avg       0.49      0.51      0.50       418\n",
            "weighted avg       0.49      0.51      0.49       418\n",
            "\n",
            "Model keempat : Manhattan Distance\n",
            "              precision    recall  f1-score   support\n",
            "\n",
            "           F       0.45      0.28      0.35       134\n",
            "           I       0.61      0.80      0.69       128\n",
            "           M       0.44      0.47      0.45       156\n",
            "\n",
            "    accuracy                           0.51       418\n",
            "   macro avg       0.50      0.52      0.50       418\n",
            "weighted avg       0.50      0.51      0.49       418\n",
            "\n"
          ]
        }
      ]
    },
    {
      "cell_type": "markdown",
      "source": [
        "**3 PARAMETER**"
      ],
      "metadata": {
        "id": "3MKDltasnp4Y"
      }
    },
    {
      "cell_type": "code",
      "source": [
        "# Laporan klasifikasi untuk masing-masing model\n",
        "v_3_report_minkowski = classification_report(y_3_test, y_3_pred_minkowski)\n",
        "v_3_report_cosine = classification_report(y_3_test, y_3_pred_cosine)\n",
        "v_3_report_euclidean = classification_report(y_3_test, y_3_pred_euclidean)\n",
        "v_3_report_manhattan = classification_report(y_3_test, y_3_pred_manhattan)\n",
        "\n",
        "# Menampilkan laporan klasifikasi untuk masing-masing model\n",
        "print(\"3 PARAMETER\")\n",
        "print(\"\")\n",
        "\n",
        "print(\"Model pertama : Default Distance (Minkowski)\")\n",
        "print(v_3_report_minkowski)\n",
        "\n",
        "print(\"Model kedua : Cosine Distance\")\n",
        "print(v_3_report_cosine)\n",
        "\n",
        "print(\"Model ketiga : Euclidean Distance\")\n",
        "print(v_3_report_euclidean)\n",
        "\n",
        "print(\"Model keempat : Manhattan Distance\")\n",
        "print(v_3_report_manhattan)"
      ],
      "metadata": {
        "colab": {
          "base_uri": "https://localhost:8080/"
        },
        "id": "NuvY-v3KnvKn",
        "outputId": "162d60ed-33c2-438d-9992-c369550cf0be"
      },
      "execution_count": null,
      "outputs": [
        {
          "output_type": "stream",
          "name": "stdout",
          "text": [
            "3 PARAMETER\n",
            "\n",
            "Model pertama : Default Distance (Minkowski)\n",
            "              precision    recall  f1-score   support\n",
            "\n",
            "           F       0.46      0.30      0.36       134\n",
            "           I       0.61      0.86      0.72       128\n",
            "           M       0.48      0.47      0.47       156\n",
            "\n",
            "    accuracy                           0.53       418\n",
            "   macro avg       0.52      0.54      0.52       418\n",
            "weighted avg       0.51      0.53      0.51       418\n",
            "\n",
            "Model kedua : Cosine Distance\n",
            "              precision    recall  f1-score   support\n",
            "\n",
            "           F       0.44      0.41      0.43       134\n",
            "           I       0.63      0.83      0.72       128\n",
            "           M       0.48      0.39      0.43       156\n",
            "\n",
            "    accuracy                           0.53       418\n",
            "   macro avg       0.52      0.54      0.53       418\n",
            "weighted avg       0.52      0.53      0.52       418\n",
            "\n",
            "Model ketiga : Euclidean Distance\n",
            "              precision    recall  f1-score   support\n",
            "\n",
            "           F       0.46      0.30      0.36       134\n",
            "           I       0.61      0.86      0.72       128\n",
            "           M       0.48      0.47      0.47       156\n",
            "\n",
            "    accuracy                           0.53       418\n",
            "   macro avg       0.52      0.54      0.52       418\n",
            "weighted avg       0.51      0.53      0.51       418\n",
            "\n",
            "Model keempat : Manhattan Distance\n",
            "              precision    recall  f1-score   support\n",
            "\n",
            "           F       0.42      0.29      0.34       134\n",
            "           I       0.62      0.85      0.72       128\n",
            "           M       0.44      0.42      0.43       156\n",
            "\n",
            "    accuracy                           0.51       418\n",
            "   macro avg       0.49      0.52      0.50       418\n",
            "weighted avg       0.49      0.51      0.49       418\n",
            "\n"
          ]
        }
      ]
    },
    {
      "cell_type": "markdown",
      "source": [
        "## Confusion Matrix"
      ],
      "metadata": {
        "id": "cVrcp006TbBz"
      }
    },
    {
      "cell_type": "markdown",
      "source": [
        "**2 PARAMETER**"
      ],
      "metadata": {
        "id": "1DYyvDxSogWO"
      }
    },
    {
      "cell_type": "code",
      "source": [
        "import seaborn as sns\n",
        "import matplotlib.pyplot as plt\n",
        "\n",
        "# Confusion matrix untuk masing-masing model\n",
        "v_2_cm_minkowski = confusion_matrix(y_2_test, y_2_pred_minkowski)\n",
        "v_2_cm_cosine = confusion_matrix(y_2_test, y_2_pred_cosine)\n",
        "v_2_cm_euclidean = confusion_matrix(y_2_test, y_2_pred_euclidean)\n",
        "v_2_cm_manhattan = confusion_matrix(y_2_test, y_2_pred_manhattan)\n",
        "\n",
        "# Daftar confusion matrix dan nama model\n",
        "confusion_matrices = [v_2_cm_minkowski, v_2_cm_cosine, v_2_cm_euclidean, v_2_cm_manhattan]\n",
        "model_names = [\"Model pertama (Minkowski)\", \"Model kedua (Cosine)\", \"Model ketiga (Euclidean)\", \"Model keempat (Manhattan)\"]\n",
        "\n",
        "# Membuat subplots\n",
        "fig, axes = plt.subplots(2, 2, figsize=(12, 10))\n",
        "\n",
        "# Melakukan iterasi untuk setiap confusion matrix dan nama model\n",
        "for ax, cm, model_name in zip(axes.flatten(), confusion_matrices, model_names):\n",
        "    # Membuat heatmap\n",
        "    sns.heatmap(cm, annot=True, cmap='YlOrBr', fmt='g', ax=ax)\n",
        "    ax.set_title(model_name)\n",
        "    ax.set_xlabel('Predicted')\n",
        "    ax.set_ylabel('Actual')\n",
        "\n",
        "plt.tight_layout()\n",
        "plt.show()\n"
      ],
      "metadata": {
        "id": "hrh-ypTGw-r3",
        "colab": {
          "base_uri": "https://localhost:8080/",
          "height": 1000
        },
        "outputId": "8ed45b71-baf4-4937-b0b0-dde8eced8277"
      },
      "execution_count": null,
      "outputs": [
        {
          "output_type": "display_data",
          "data": {
            "text/plain": [
              "<Figure size 1200x1000 with 8 Axes>"
            ],
            "image/png": "[encoded data removed]"
          },
          "metadata": {}
        }
      ]
    },
    {
      "cell_type": "markdown",
      "source": [
        "**3 PARAMETER**"
      ],
      "metadata": {
        "id": "gP__pHPjw3r1"
      }
    },
    {
      "cell_type": "code",
      "source": [
        "import seaborn as sns\n",
        "import matplotlib.pyplot as plt\n",
        "\n",
        "# Confusion matrix untuk masing-masing model\n",
        "v_3_cm_minkowski = confusion_matrix(y_3_test, y_3_pred_minkowski)\n",
        "v_3_cm_cosine = confusion_matrix(y_3_test, y_3_pred_cosine)\n",
        "v_3_cm_euclidean = confusion_matrix(y_3_test, y_3_pred_euclidean)\n",
        "v_3_cm_manhattan = confusion_matrix(y_3_test, y_3_pred_manhattan)\n",
        "\n",
        "# Daftar confusion matrix dan nama model\n",
        "confusion_matrices = [v_3_cm_minkowski, v_3_cm_cosine, v_3_cm_euclidean, v_3_cm_manhattan]\n",
        "model_names = [\"Model pertama (Minkowski)\", \"Model kedua (Cosine)\", \"Model ketiga (Euclidean)\", \"Model keempat (Manhattan)\"]\n",
        "\n",
        "# Membuat subplots\n",
        "fig, axes = plt.subplots(2, 2, figsize=(12, 10))\n",
        "\n",
        "# Melakukan iterasi untuk setiap confusion matrix dan nama model\n",
        "for ax, cm, model_name in zip(axes.flatten(), confusion_matrices, model_names):\n",
        "    # Membuat heatmap\n",
        "    sns.heatmap(cm, annot=True, cmap='YlOrBr', fmt='g', ax=ax)\n",
        "    ax.set_title(model_name)\n",
        "    ax.set_xlabel('Predicted')\n",
        "    ax.set_ylabel('Actual')\n",
        "\n",
        "plt.tight_layout()\n",
        "plt.show()\n"
      ],
      "metadata": {
        "id": "-wY_z1RASeAC",
        "colab": {
          "base_uri": "https://localhost:8080/",
          "height": 1000
        },
        "outputId": "87d2d5a7-1057-4ca9-8c1e-14c89dd5ed3f"
      },
      "execution_count": null,
      "outputs": [
        {
          "output_type": "display_data",
          "data": {
            "text/plain": [
              "<Figure size 1200x1000 with 8 Axes>"
            ],
            "image/png": "[encoded data removed]"
          },
          "metadata": {}
        }
      ]
    },
    {
      "cell_type": "markdown",
      "source": [
        "## Accuracy"
      ],
      "metadata": {
        "id": "Fuc0ueoDT00v"
      }
    },
    {
      "cell_type": "markdown",
      "source": [
        "**2 PARAMETER**"
      ],
      "metadata": {
        "id": "f_9r2_7AxDlA"
      }
    },
    {
      "cell_type": "code",
      "source": [
        "v_2_accuracy_minkowski = accuracy_score(y_2_test, y_2_pred_minkowski)\n",
        "v_2_accuracy_cosine = accuracy_score(y_2_test, y_2_pred_cosine)\n",
        "v_2_accuracy_euclidean = accuracy_score(y_2_test, y_2_pred_euclidean)\n",
        "v_2_accuracy_manhattan = accuracy_score(y_2_test, y_2_pred_manhattan)\n",
        "\n",
        "print(\"Akurasi:\", v_2_accuracy_minkowski)\n",
        "print(\"Akurasi:\", v_2_accuracy_cosine)\n",
        "print(\"Akurasi:\", v_2_accuracy_euclidean)\n",
        "print(\"Akurasi:\", v_2_accuracy_manhattan)"
      ],
      "metadata": {
        "colab": {
          "base_uri": "https://localhost:8080/"
        },
        "id": "nKtxju6DxGvV",
        "outputId": "3d7dac87-b0c1-4457-c2f5-0054bcb0bf7f"
      },
      "execution_count": null,
      "outputs": [
        {
          "output_type": "stream",
          "name": "stdout",
          "text": [
            "Akurasi: 0.507177033492823\n",
            "Akurasi: 0.47368421052631576\n",
            "Akurasi: 0.507177033492823\n",
            "Akurasi: 0.5095693779904307\n"
          ]
        }
      ]
    },
    {
      "cell_type": "markdown",
      "source": [
        "**3 PARAMETER**"
      ],
      "metadata": {
        "id": "zyJkGC12xE3A"
      }
    },
    {
      "cell_type": "code",
      "source": [
        "v_3_accuracy_minkowski = accuracy_score(y_3_test, y_3_pred_minkowski)\n",
        "v_3_accuracy_cosine = accuracy_score(y_3_test, y_3_pred_cosine)\n",
        "v_3_accuracy_euclidean = accuracy_score(y_3_test, y_3_pred_euclidean)\n",
        "v_3_accuracy_manhattan = accuracy_score(y_3_test, y_3_pred_manhattan)\n",
        "\n",
        "print(\"Akurasi:\", v_3_accuracy_minkowski)\n",
        "print(\"Akurasi:\", v_3_accuracy_cosine)\n",
        "print(\"Akurasi:\", v_3_accuracy_euclidean)\n",
        "print(\"Akurasi:\", v_3_accuracy_manhattan)"
      ],
      "metadata": {
        "colab": {
          "base_uri": "https://localhost:8080/"
        },
        "id": "GScOL9RAT3vt",
        "outputId": "0e3b6115-73b9-4b51-89e5-cdf5794706bc"
      },
      "execution_count": null,
      "outputs": [
        {
          "output_type": "stream",
          "name": "stdout",
          "text": [
            "Akurasi: 0.5334928229665071\n",
            "Akurasi: 0.5311004784688995\n",
            "Akurasi: 0.5334928229665071\n",
            "Akurasi: 0.5095693779904307\n"
          ]
        }
      ]
    },
    {
      "cell_type": "markdown",
      "source": [
        "## Precision"
      ],
      "metadata": {
        "id": "sjIIgVTfT0_e"
      }
    },
    {
      "cell_type": "markdown",
      "source": [
        "**2 PARAMETER**"
      ],
      "metadata": {
        "id": "2u4eKmGGyw82"
      }
    },
    {
      "cell_type": "code",
      "source": [
        "v_2_precision_minkowski = precision_score(y_2_test, y_2_pred_minkowski, average='weighted')\n",
        "v_2_precision_cosine = precision_score(y_2_test, y_2_pred_cosine, average='weighted')\n",
        "v_2_precision_euclidean = precision_score(y_2_test, y_2_pred_euclidean, average='weighted')\n",
        "v_2_precision_manhattan = precision_score(y_2_test, y_2_pred_manhattan, average='weighted')\n",
        "\n",
        "print(\"Presisi:\", v_2_precision_minkowski)\n",
        "print(\"Presisi:\", v_2_precision_cosine)\n",
        "print(\"Presisi:\", v_2_precision_euclidean)\n",
        "print(\"Presisi:\", v_2_precision_manhattan)"
      ],
      "metadata": {
        "colab": {
          "base_uri": "https://localhost:8080/"
        },
        "id": "iP_VXa6yy3c_",
        "outputId": "8df2bd86-f9e9-4e6a-f84e-c355d13ffb52"
      },
      "execution_count": null,
      "outputs": [
        {
          "output_type": "stream",
          "name": "stdout",
          "text": [
            "Presisi: 0.4910334356317736\n",
            "Presisi: 0.4414581177466939\n",
            "Presisi: 0.4910334356317736\n",
            "Presisi: 0.4950615860571472\n"
          ]
        }
      ]
    },
    {
      "cell_type": "markdown",
      "source": [
        "**3 PARAMETER**"
      ],
      "metadata": {
        "id": "Mnnf0Umpy0bi"
      }
    },
    {
      "cell_type": "code",
      "source": [
        "v_3_precision_minkowski = precision_score(y_3_test, y_3_pred_minkowski, average='weighted')\n",
        "v_3_precision_cosine = precision_score(y_3_test, y_3_pred_cosine, average='weighted')\n",
        "v_3_precision_euclidean = precision_score(y_3_test, y_3_pred_euclidean, average='weighted')\n",
        "v_3_precision_manhattan = precision_score(y_3_test, y_3_pred_manhattan, average='weighted')\n",
        "\n",
        "print(\"Presisi:\", v_3_precision_minkowski)\n",
        "print(\"Presisi:\", v_3_precision_cosine)\n",
        "print(\"Presisi:\", v_3_precision_euclidean)\n",
        "print(\"Presisi:\", v_3_precision_manhattan)"
      ],
      "metadata": {
        "colab": {
          "base_uri": "https://localhost:8080/"
        },
        "id": "cSlTecm-T9E1",
        "outputId": "b02de110-f1a9-44c3-a790-f4bfddb39840"
      },
      "execution_count": null,
      "outputs": [
        {
          "output_type": "stream",
          "name": "stdout",
          "text": [
            "Presisi: 0.5148073347152459\n",
            "Presisi: 0.5158137002661995\n",
            "Presisi: 0.5148073347152459\n",
            "Presisi: 0.4868898730502197\n"
          ]
        }
      ]
    },
    {
      "cell_type": "markdown",
      "source": [
        "## Recall"
      ],
      "metadata": {
        "id": "SCjojV37T1Dn"
      }
    },
    {
      "cell_type": "markdown",
      "source": [
        "**2 PARAMETER**"
      ],
      "metadata": {
        "id": "FO_REgqbzZI8"
      }
    },
    {
      "cell_type": "code",
      "source": [
        "v_2_recall_minkowski = recall_score(y_2_test, y_2_pred_minkowski, average='weighted')\n",
        "v_2_recall_cosine = recall_score(y_2_test, y_2_pred_cosine, average='weighted')\n",
        "v_2_recall_euclidean = recall_score(y_2_test, y_2_pred_euclidean, average='weighted')\n",
        "v_2_recall_manhattan = recall_score(y_2_test, y_2_pred_manhattan, average='weighted')\n",
        "\n",
        "print(\"Recall:\", v_2_recall_minkowski)\n",
        "print(\"Recall:\", v_2_recall_cosine)\n",
        "print(\"Recall:\", v_2_recall_euclidean)\n",
        "print(\"Recall:\", v_2_recall_manhattan)"
      ],
      "metadata": {
        "colab": {
          "base_uri": "https://localhost:8080/"
        },
        "id": "R4hax3xTzcy4",
        "outputId": "75b77149-53f1-4956-a8b5-e3d6a7979e05"
      },
      "execution_count": null,
      "outputs": [
        {
          "output_type": "stream",
          "name": "stdout",
          "text": [
            "Recall: 0.507177033492823\n",
            "Recall: 0.47368421052631576\n",
            "Recall: 0.507177033492823\n",
            "Recall: 0.5095693779904307\n"
          ]
        }
      ]
    },
    {
      "cell_type": "markdown",
      "source": [
        "**3 PARAMETER**"
      ],
      "metadata": {
        "id": "vBYOYv3CzZOR"
      }
    },
    {
      "cell_type": "code",
      "source": [
        "v_3_recall_minkowski = recall_score(y_3_test, y_3_pred_minkowski, average='weighted')\n",
        "v_3_recall_cosine = recall_score(y_3_test, y_3_pred_cosine, average='weighted')\n",
        "v_3_recall_euclidean = recall_score(y_3_test, y_3_pred_euclidean, average='weighted')\n",
        "v_3_recall_manhattan = recall_score(y_3_test, y_3_pred_manhattan, average='weighted')\n",
        "\n",
        "print(\"Recall:\", v_3_recall_minkowski)\n",
        "print(\"Recall:\", v_3_recall_cosine)\n",
        "print(\"Recall:\", v_3_recall_euclidean)\n",
        "print(\"Recall:\", v_3_recall_manhattan)"
      ],
      "metadata": {
        "colab": {
          "base_uri": "https://localhost:8080/"
        },
        "id": "yhQeKGjCT-dJ",
        "outputId": "338f075d-850d-41ce-f5de-6e81a2a250cd"
      },
      "execution_count": null,
      "outputs": [
        {
          "output_type": "stream",
          "name": "stdout",
          "text": [
            "Recall: 0.5334928229665071\n",
            "Recall: 0.5311004784688995\n",
            "Recall: 0.5334928229665071\n",
            "Recall: 0.5095693779904307\n"
          ]
        }
      ]
    },
    {
      "cell_type": "markdown",
      "source": [
        "## F1 Score"
      ],
      "metadata": {
        "id": "OgAVMDJmUANR"
      }
    },
    {
      "cell_type": "markdown",
      "source": [
        "**2 PARAMETER**"
      ],
      "metadata": {
        "id": "WtAPkB8j0H4b"
      }
    },
    {
      "cell_type": "code",
      "source": [
        "v_2_f1_minkowski = f1_score(y_2_test, y_2_pred_minkowski, average='weighted')\n",
        "v_2_f1_cosine = f1_score(y_2_test, y_2_pred_cosine, average='weighted')\n",
        "v_2_f1_euclidean = f1_score(y_2_test, y_2_pred_euclidean, average='weighted')\n",
        "v_2_f1_manhattan = f1_score(y_2_test, y_2_pred_manhattan, average='weighted')\n",
        "\n",
        "print(\"F1-score:\", v_2_f1_minkowski)\n",
        "print(\"F1-score:\", v_2_f1_cosine)\n",
        "print(\"F1-score:\", v_2_f1_euclidean)\n",
        "print(\"F1-score:\", v_2_f1_manhattan)"
      ],
      "metadata": {
        "colab": {
          "base_uri": "https://localhost:8080/"
        },
        "id": "3LerfmLnUAmv",
        "outputId": "c5aaabc5-e21c-4453-cba5-99962725fa6a"
      },
      "execution_count": null,
      "outputs": [
        {
          "output_type": "stream",
          "name": "stdout",
          "text": [
            "F1-score: 0.4903721246970674\n",
            "F1-score: 0.4441220882461583\n",
            "F1-score: 0.4903721246970674\n",
            "F1-score: 0.492020889476435\n"
          ]
        }
      ]
    },
    {
      "cell_type": "markdown",
      "source": [
        "**3 PARAMETER**"
      ],
      "metadata": {
        "id": "1VEbaiV40EZO"
      }
    },
    {
      "cell_type": "code",
      "source": [
        "v_3_f1_minkowski = f1_score(y_3_test, y_3_pred_minkowski, average='weighted')\n",
        "v_3_f1_cosine = f1_score(y_3_test, y_3_pred_cosine, average='weighted')\n",
        "v_3_f1_euclidean = f1_score(y_3_test, y_3_pred_euclidean, average='weighted')\n",
        "v_3_f1_manhattan = f1_score(y_3_test, y_3_pred_manhattan, average='weighted')\n",
        "\n",
        "print(\"F1-score:\", v_3_f1_minkowski)\n",
        "print(\"F1-score:\", v_3_f1_cosine)\n",
        "print(\"F1-score:\", v_3_f1_euclidean)\n",
        "print(\"F1-score:\", v_3_f1_manhattan)"
      ],
      "metadata": {
        "colab": {
          "base_uri": "https://localhost:8080/"
        },
        "id": "ir9ehAzm0YeB",
        "outputId": "50d30fa9-124d-44aa-9fe1-83277da67e33"
      },
      "execution_count": null,
      "outputs": [
        {
          "output_type": "stream",
          "name": "stdout",
          "text": [
            "F1-score: 0.5123952718736592\n",
            "F1-score: 0.517629442621839\n",
            "F1-score: 0.5123952718736592\n",
            "F1-score: 0.48881657853190236\n"
          ]
        }
      ]
    },
    {
      "cell_type": "markdown",
      "source": [
        "# Testing Model"
      ],
      "metadata": {
        "id": "hJNiYrI1UyEy"
      }
    },
    {
      "cell_type": "markdown",
      "source": [
        "Terakhir, akan dilakukan uji coba model klasifikasi kNN yang telah dibuat sebelumnya. Data uji yang digunakan adalah baris data yang tidak digunakan dalam proses training dan testing model sebelumnya sehingga data ini akan bersifat baru untuk model.\n",
        "\n",
        "Ada pun  baris data tersebut, yaitu:\n",
        "* M (0.095,0.514,0.2245)\n",
        "* F (0.135,0.677,0.2565)\n",
        "* I (0.08,0.205,0.0895)"
      ],
      "metadata": {
        "id": "AWlhzjaDNkb_"
      }
    },
    {
      "cell_type": "markdown",
      "source": [
        "**2 PARAMETER**"
      ],
      "metadata": {
        "id": "LtAysQrQ40nJ"
      }
    },
    {
      "cell_type": "markdown",
      "source": [
        "1. TYPE M (0.095,0.514)\n"
      ],
      "metadata": {
        "id": "Cxd3wlfdX22K"
      }
    },
    {
      "cell_type": "code",
      "source": [
        "# Inputan pengguna untuk nilai Height dan WholeWeight\n",
        "height = float(input(\"Masukkan nilai Height: \"))\n",
        "whole_weight = float(input(\"Masukkan nilai WholeWeight: \"))\n",
        "\n",
        "# Membuat array dari inputan pengguna\n",
        "input_data = np.array([[height, whole_weight]])\n",
        "\n",
        "# Prediksi menggunakan masing-masing model tanpa penskalaan\n",
        "v_2_pred_minkowski = v_2_klasifikasi_minkowski.predict(input_data)\n",
        "v_2_pred_cosine = v_2_klasifikasi_cosine.predict(input_data)\n",
        "v_2_pred_euclidean = v_2_klasifikasi_euclidean.predict(input_data)\n",
        "v_2_pred_manhattan = v_2_klasifikasi_manhattan.predict(input_data)\n",
        "\n",
        "# Menampilkan hasil prediksi\n",
        "print(\"\")\n",
        "print(\"Hasil prediksi untuk inputan pengguna:\")\n",
        "print(\"Model pertama (Minkowski):\", v_2_pred_minkowski[0])\n",
        "print(\"Model kedua (Cosine):\", v_2_pred_cosine[0])\n",
        "print(\"Model ketiga (Euclidean):\", v_2_pred_euclidean[0])\n",
        "print(\"Model keempat (Manhattan):\", v_2_pred_manhattan[0])"
      ],
      "metadata": {
        "id": "19CzL3rkUUqr",
        "colab": {
          "base_uri": "https://localhost:8080/"
        },
        "outputId": "bc590b76-fb66-4100-8f6e-8d0bfc799eec"
      },
      "execution_count": null,
      "outputs": [
        {
          "output_type": "stream",
          "name": "stdout",
          "text": [
            "Masukkan nilai Height: 0.095\n",
            "Masukkan nilai WholeWeight: 0.514\n",
            "\n",
            "Hasil prediksi untuk inputan pengguna:\n",
            "Model pertama (Minkowski): I\n",
            "Model kedua (Cosine): I\n",
            "Model ketiga (Euclidean): I\n",
            "Model keempat (Manhattan): I\n"
          ]
        }
      ]
    },
    {
      "cell_type": "markdown",
      "source": [
        "2. TYPE F (0.135,0.677)"
      ],
      "metadata": {
        "id": "8ExWHEfyX9NY"
      }
    },
    {
      "cell_type": "code",
      "source": [
        "# Inputan pengguna untuk nilai Height dan WholeWeight\n",
        "height = float(input(\"Masukkan nilai Height: \"))\n",
        "whole_weight = float(input(\"Masukkan nilai WholeWeight: \"))\n",
        "\n",
        "# Membuat array dari inputan pengguna\n",
        "input_data = np.array([[height, whole_weight]])\n",
        "\n",
        "# Prediksi menggunakan masing-masing model tanpa penskalaan\n",
        "v_2_pred_minkowski = v_2_klasifikasi_minkowski.predict(input_data)\n",
        "v_2_pred_cosine = v_2_klasifikasi_cosine.predict(input_data)\n",
        "v_2_pred_euclidean = v_2_klasifikasi_euclidean.predict(input_data)\n",
        "v_2_pred_manhattan = v_2_klasifikasi_manhattan.predict(input_data)\n",
        "\n",
        "# Menampilkan hasil prediksi\n",
        "print(\"\")\n",
        "print(\"Hasil prediksi untuk inputan pengguna:\")\n",
        "print(\"Model pertama (Minkowski):\", v_2_pred_minkowski[0])\n",
        "print(\"Model kedua (Cosine):\", v_2_pred_cosine[0])\n",
        "print(\"Model ketiga (Euclidean):\", v_2_pred_euclidean[0])\n",
        "print(\"Model keempat (Manhattan):\", v_2_pred_manhattan[0])"
      ],
      "metadata": {
        "colab": {
          "base_uri": "https://localhost:8080/"
        },
        "id": "xt-ihwn6YCKq",
        "outputId": "33fefc36-c3e1-4ae6-9513-cf9849bd51f8"
      },
      "execution_count": null,
      "outputs": [
        {
          "output_type": "stream",
          "name": "stdout",
          "text": [
            "Masukkan nilai Height: 0.135\n",
            "Masukkan nilai WholeWeight: 0.677\n",
            "\n",
            "Hasil prediksi untuk inputan pengguna:\n",
            "Model pertama (Minkowski): I\n",
            "Model kedua (Cosine): I\n",
            "Model ketiga (Euclidean): I\n",
            "Model keempat (Manhattan): I\n"
          ]
        }
      ]
    },
    {
      "cell_type": "markdown",
      "source": [
        "3. TYPE I (0.08,0.205)"
      ],
      "metadata": {
        "id": "EmlcanKCX_bZ"
      }
    },
    {
      "cell_type": "code",
      "source": [
        "# Inputan pengguna untuk nilai Height dan WholeWeight\n",
        "height = float(input(\"Masukkan nilai Height: \"))\n",
        "whole_weight = float(input(\"Masukkan nilai WholeWeight: \"))\n",
        "\n",
        "# Membuat array dari inputan pengguna\n",
        "input_data = np.array([[height, whole_weight]])\n",
        "\n",
        "# Prediksi menggunakan masing-masing model tanpa penskalaan\n",
        "v_2_pred_minkowski = v_2_klasifikasi_minkowski.predict(input_data)\n",
        "v_2_pred_cosine = v_2_klasifikasi_cosine.predict(input_data)\n",
        "v_2_pred_euclidean = v_2_klasifikasi_euclidean.predict(input_data)\n",
        "v_2_pred_manhattan = v_2_klasifikasi_manhattan.predict(input_data)\n",
        "\n",
        "# Menampilkan hasil prediksi\n",
        "print(\"\")\n",
        "print(\"Hasil prediksi untuk inputan pengguna:\")\n",
        "print(\"Model pertama (Minkowski):\", v_2_pred_minkowski[0])\n",
        "print(\"Model kedua (Cosine):\", v_2_pred_cosine[0])\n",
        "print(\"Model ketiga (Euclidean):\", v_2_pred_euclidean[0])\n",
        "print(\"Model keempat (Manhattan):\", v_2_pred_manhattan[0])"
      ],
      "metadata": {
        "colab": {
          "base_uri": "https://localhost:8080/"
        },
        "id": "1oMhN7_SYDiQ",
        "outputId": "2ffacaa4-57cd-4da5-bfa5-06e931ad578e"
      },
      "execution_count": null,
      "outputs": [
        {
          "output_type": "stream",
          "name": "stdout",
          "text": [
            "Masukkan nilai Height: 0.08\n",
            "Masukkan nilai WholeWeight: 0.205\n",
            "\n",
            "Hasil prediksi untuk inputan pengguna:\n",
            "Model pertama (Minkowski): I\n",
            "Model kedua (Cosine): I\n",
            "Model ketiga (Euclidean): I\n",
            "Model keempat (Manhattan): I\n"
          ]
        }
      ]
    },
    {
      "cell_type": "markdown",
      "source": [
        "**3 PARAMETER**"
      ],
      "metadata": {
        "id": "RTUrTah244fx"
      }
    },
    {
      "cell_type": "markdown",
      "source": [
        "1. TYPE M (0.095,0.514,0.2245)"
      ],
      "metadata": {
        "id": "QfS5HvdvZLrA"
      }
    },
    {
      "cell_type": "code",
      "source": [
        "# Inputan pengguna untuk nilai Height, WholeWeight, dan ShuckedWeight\n",
        "height = float(input(\"Masukkan nilai Height: \"))\n",
        "whole_weight = float(input(\"Masukkan nilai WholeWeight: \"))\n",
        "shucked_weight = float(input(\"Masukkan nilai Shucked Weight: \"))\n",
        "\n",
        "# Membuat array dari inputan pengguna\n",
        "input_data = np.array([[height, whole_weight, shucked_weight]])\n",
        "\n",
        "# Prediksi menggunakan masing-masing model tanpa penskalaan\n",
        "v_3_pred_minkowski = v_3_klasifikasi_minkowski.predict(input_data)\n",
        "v_3_pred_cosine = v_3_klasifikasi_cosine.predict(input_data)\n",
        "v_3_pred_euclidean = v_3_klasifikasi_euclidean.predict(input_data)\n",
        "v_3_pred_manhattan = v_3_klasifikasi_manhattan.predict(input_data)\n",
        "\n",
        "# Menampilkan hasil prediksi\n",
        "print(\"Hasil prediksi untuk inputan pengguna (3 parameter):\")\n",
        "print(\"Model pertama (Minkowski):\", v_3_pred_minkowski[0])\n",
        "print(\"Model kedua (Cosine):\", v_3_pred_cosine[0])\n",
        "print(\"Model ketiga (Euclidean):\", v_3_pred_euclidean[0])\n",
        "print(\"Model keempat (Manhattan):\", v_3_pred_manhattan[0])"
      ],
      "metadata": {
        "id": "-iCkVjPqDzKg",
        "colab": {
          "base_uri": "https://localhost:8080/"
        },
        "outputId": "af45d78c-b14d-4736-8cd3-cf305c050698"
      },
      "execution_count": null,
      "outputs": [
        {
          "output_type": "stream",
          "name": "stdout",
          "text": [
            "Masukkan nilai Height: 0.095\n",
            "Masukkan nilai WholeWeight: 0.514\n",
            "Masukkan nilai Shucked Weight: 0.2245\n",
            "Hasil prediksi untuk inputan pengguna (3 parameter):\n",
            "Model pertama (Minkowski): I\n",
            "Model kedua (Cosine): F\n",
            "Model ketiga (Euclidean): I\n",
            "Model keempat (Manhattan): I\n"
          ]
        }
      ]
    },
    {
      "cell_type": "markdown",
      "source": [
        "2. TYPE F (0.135,0.677,0.2565)"
      ],
      "metadata": {
        "id": "6wAyw8VMZL6o"
      }
    },
    {
      "cell_type": "code",
      "source": [
        "# Inputan pengguna untuk nilai Height, WholeWeight, dan ShuckedWeight\n",
        "height = float(input(\"Masukkan nilai Height: \"))\n",
        "whole_weight = float(input(\"Masukkan nilai WholeWeight: \"))\n",
        "shucked_weight = float(input(\"Masukkan nilai Shucked Weight: \"))\n",
        "\n",
        "# Membuat array dari inputan pengguna\n",
        "input_data = np.array([[height, whole_weight, shucked_weight]])\n",
        "\n",
        "# Prediksi menggunakan masing-masing model tanpa penskalaan\n",
        "v_3_pred_minkowski = v_3_klasifikasi_minkowski.predict(input_data)\n",
        "v_3_pred_cosine = v_3_klasifikasi_cosine.predict(input_data)\n",
        "v_3_pred_euclidean = v_3_klasifikasi_euclidean.predict(input_data)\n",
        "v_3_pred_manhattan = v_3_klasifikasi_manhattan.predict(input_data)\n",
        "\n",
        "# Menampilkan hasil prediksi\n",
        "print(\"Hasil prediksi untuk inputan pengguna (3 parameter):\")\n",
        "print(\"Model pertama (Minkowski):\", v_3_pred_minkowski[0])\n",
        "print(\"Model kedua (Cosine):\", v_3_pred_cosine[0])\n",
        "print(\"Model ketiga (Euclidean):\", v_3_pred_euclidean[0])\n",
        "print(\"Model keempat (Manhattan):\", v_3_pred_manhattan[0])"
      ],
      "metadata": {
        "colab": {
          "base_uri": "https://localhost:8080/"
        },
        "id": "vPq2o6DxZZvR",
        "outputId": "2a702aa9-ca8a-4a2b-bbac-de1e9e78c9ff"
      },
      "execution_count": null,
      "outputs": [
        {
          "output_type": "stream",
          "name": "stdout",
          "text": [
            "Masukkan nilai Height: 0.135\n",
            "Masukkan nilai WholeWeight: 0.677\n",
            "Masukkan nilai Shucked Weight: 0.2565\n",
            "Hasil prediksi untuk inputan pengguna (3 parameter):\n",
            "Model pertama (Minkowski): F\n",
            "Model kedua (Cosine): F\n",
            "Model ketiga (Euclidean): F\n",
            "Model keempat (Manhattan): I\n"
          ]
        }
      ]
    },
    {
      "cell_type": "markdown",
      "source": [
        "3. TYPE I (0.08,0.205,0.0895)"
      ],
      "metadata": {
        "id": "y81JbsbbZMpJ"
      }
    },
    {
      "cell_type": "code",
      "source": [
        "# Inputan pengguna untuk nilai Height, WholeWeight, dan ShuckedWeight\n",
        "height = float(input(\"Masukkan nilai Height: \"))\n",
        "whole_weight = float(input(\"Masukkan nilai WholeWeight: \"))\n",
        "shucked_weight = float(input(\"Masukkan nilai Shucked Weight: \"))\n",
        "\n",
        "# Membuat array dari inputan pengguna\n",
        "input_data = np.array([[height, whole_weight, shucked_weight]])\n",
        "\n",
        "# Prediksi menggunakan masing-masing model tanpa penskalaan\n",
        "v_3_pred_minkowski = v_3_klasifikasi_minkowski.predict(input_data)\n",
        "v_3_pred_cosine = v_3_klasifikasi_cosine.predict(input_data)\n",
        "v_3_pred_euclidean = v_3_klasifikasi_euclidean.predict(input_data)\n",
        "v_3_pred_manhattan = v_3_klasifikasi_manhattan.predict(input_data)\n",
        "\n",
        "# Menampilkan hasil prediksi\n",
        "print(\"Hasil prediksi untuk inputan pengguna (3 parameter):\")\n",
        "print(\"Model pertama (Minkowski):\", v_3_pred_minkowski[0])\n",
        "print(\"Model kedua (Cosine):\", v_3_pred_cosine[0])\n",
        "print(\"Model ketiga (Euclidean):\", v_3_pred_euclidean[0])\n",
        "print(\"Model keempat (Manhattan):\", v_3_pred_manhattan[0])"
      ],
      "metadata": {
        "colab": {
          "base_uri": "https://localhost:8080/"
        },
        "id": "-BeuuKLoZZGJ",
        "outputId": "1dc49e43-01bc-490d-b7de-8a7dfaa92ac1"
      },
      "execution_count": null,
      "outputs": [
        {
          "output_type": "stream",
          "name": "stdout",
          "text": [
            "Masukkan nilai Height: 0.08\n",
            "Masukkan nilai WholeWeight: 0.205\n",
            "Masukkan nilai Shucked Weight: 0.0895\n",
            "Hasil prediksi untuk inputan pengguna (3 parameter):\n",
            "Model pertama (Minkowski): I\n",
            "Model kedua (Cosine): I\n",
            "Model ketiga (Euclidean): I\n",
            "Model keempat (Manhattan): I\n"
          ]
        }
      ]
    }
  ]
}